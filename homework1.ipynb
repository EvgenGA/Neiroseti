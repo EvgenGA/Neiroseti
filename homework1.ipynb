{
  "metadata": {
    "kernelspec": {
      "name": "python3",
      "display_name": "Python 3"
    },
    "language_info": {
      "name": "python"
    },
    "colab": {
      "provenance": []
    }
  },
  "nbformat_minor": 0,
  "nbformat": 4,
  "cells": [
    {
      "cell_type": "markdown",
      "source": [
        "# Home Work 01\n",
        "1. Numpy\n",
        "1. Pytorch (tensor (basic operations))"
      ],
      "metadata": {
        "id": "jAdo6jpFADfQ"
      }
    },
    {
      "cell_type": "markdown",
      "source": [
        "# DEADLINE\n",
        "\n",
        "### IS-142 - 08.10.24\n",
        "### IS-141 - 15.10.24"
      ],
      "metadata": {
        "id": "RchJFVNPADfU"
      }
    },
    {
      "cell_type": "markdown",
      "source": [
        "## BLOKE №1 (numpy)"
      ],
      "metadata": {
        "jp-MarkdownHeadingCollapsed": true,
        "id": "dfErUaf-ADfV"
      }
    },
    {
      "cell_type": "markdown",
      "source": [
        "1. Импортировать NumPy под именем np"
      ],
      "metadata": {
        "id": "fQ7aQ69sADfX"
      }
    },
    {
      "cell_type": "code",
      "source": [
        "import numpy as np"
      ],
      "metadata": {
        "trusted": true,
        "id": "r-aJ3LOuADfY"
      },
      "outputs": [],
      "execution_count": 31
    },
    {
      "cell_type": "markdown",
      "source": [
        "2. Создать вектор (одномерный массив) размера 20, заполненный нулями"
      ],
      "metadata": {
        "id": "lRQeYIhwADfa"
      }
    },
    {
      "cell_type": "code",
      "source": [
        "vec = np.zeros(20)\n",
        "vec"
      ],
      "metadata": {
        "trusted": true,
        "id": "ox0UZ6T6ADfb",
        "outputId": "615269ae-9e02-4b44-9dc4-a15b6cb90ee8",
        "colab": {
          "base_uri": "https://localhost:8080/"
        }
      },
      "outputs": [
        {
          "output_type": "stream",
          "name": "stdout",
          "text": [
            "[0. 0. 0. 0. 0. 0. 0. 0. 0. 0. 0. 0. 0. 0. 0. 0. 0. 0. 0. 0.]\n"
          ]
        }
      ],
      "execution_count": 32
    },
    {
      "cell_type": "markdown",
      "source": [
        "3. Создать вектор размера 20, заполненный числом 1.75"
      ],
      "metadata": {
        "id": "r8e_TbkvADfd"
      }
    },
    {
      "cell_type": "code",
      "source": [
        "vec1 = np.full(20,1.75)\n",
        "vec1"
      ],
      "metadata": {
        "trusted": true,
        "id": "H00i40RLADfe",
        "outputId": "148d86e8-cd94-4d22-fbd8-a6ad9da080c4",
        "colab": {
          "base_uri": "https://localhost:8080/"
        }
      },
      "outputs": [
        {
          "output_type": "stream",
          "name": "stdout",
          "text": [
            "[1.75 1.75 1.75 1.75 1.75 1.75 1.75 1.75 1.75 1.75 1.75 1.75 1.75 1.75\n",
            " 1.75 1.75 1.75 1.75 1.75 1.75]\n"
          ]
        }
      ],
      "execution_count": 33
    },
    {
      "cell_type": "markdown",
      "source": [
        "4. Создать вектор со значениями от 4 до 31"
      ],
      "metadata": {
        "id": "IHFWHPhsADff"
      }
    },
    {
      "cell_type": "code",
      "source": [
        "vec3 = np.arange(4,32,1)\n",
        "vec3"
      ],
      "metadata": {
        "trusted": true,
        "id": "4yq3YU_BADfh",
        "outputId": "bf96ef7b-4865-447f-9995-8cb004e630e5",
        "colab": {
          "base_uri": "https://localhost:8080/"
        }
      },
      "outputs": [
        {
          "output_type": "stream",
          "name": "stdout",
          "text": [
            "[ 4  5  6  7  8  9 10 11 12 13 14 15 16 17 18 19 20 21 22 23 24 25 26 27\n",
            " 28 29 30 31]\n"
          ]
        }
      ],
      "execution_count": 34
    },
    {
      "cell_type": "markdown",
      "source": [
        "5. Развернуть вектор (первый становится последним)"
      ],
      "metadata": {
        "id": "6WSqBTdrADfi"
      }
    },
    {
      "cell_type": "code",
      "source": [
        "vec4 = np.flip(vec3)\n",
        "vec4"
      ],
      "metadata": {
        "trusted": true,
        "id": "wQIzPJJVADfj",
        "outputId": "2d5e6f67-e462-485b-c069-8cddcd9f75cb",
        "colab": {
          "base_uri": "https://localhost:8080/"
        }
      },
      "outputs": [
        {
          "output_type": "execute_result",
          "data": {
            "text/plain": [
              "array([31, 30, 29, 28, 27, 26, 25, 24, 23, 22, 21, 20, 19, 18, 17, 16, 15,\n",
              "       14, 13, 12, 11, 10,  9,  8,  7,  6,  5,  4])"
            ]
          },
          "metadata": {},
          "execution_count": 81
        }
      ],
      "execution_count": 81
    },
    {
      "cell_type": "markdown",
      "source": [
        "6. Создать матрицу (двумерный массив) 3x3 со значениями от 1 до 9"
      ],
      "metadata": {
        "id": "osVyuPuiADfj"
      }
    },
    {
      "cell_type": "code",
      "source": [
        "matrix = np.arange(1,10,1).reshape(3,3)\n",
        "matrix"
      ],
      "metadata": {
        "trusted": true,
        "id": "63Na3SSJADfk",
        "outputId": "b8dfcec5-b28c-45ef-b283-e0d2bfc1add2",
        "colab": {
          "base_uri": "https://localhost:8080/"
        }
      },
      "outputs": [
        {
          "output_type": "execute_result",
          "data": {
            "text/plain": [
              "array([[1, 2, 3],\n",
              "       [4, 5, 6],\n",
              "       [7, 8, 9]])"
            ]
          },
          "metadata": {},
          "execution_count": 82
        }
      ],
      "execution_count": 82
    },
    {
      "cell_type": "markdown",
      "source": [
        "7. Создать 3x3 единичную матрицу"
      ],
      "metadata": {
        "id": "q-q49N9MADfl"
      }
    },
    {
      "cell_type": "code",
      "source": [
        "matrix1 = np.eye(3)\n",
        "matrix1"
      ],
      "metadata": {
        "trusted": true,
        "id": "gB8NkQE8ADfl",
        "outputId": "63235dbb-9c64-45e2-f018-3f907923bdc1",
        "colab": {
          "base_uri": "https://localhost:8080/"
        }
      },
      "outputs": [
        {
          "output_type": "execute_result",
          "data": {
            "text/plain": [
              "array([[1., 0., 0.],\n",
              "       [0., 1., 0.],\n",
              "       [0., 0., 1.]])"
            ]
          },
          "metadata": {},
          "execution_count": 83
        }
      ],
      "execution_count": 83
    },
    {
      "cell_type": "markdown",
      "source": [
        "8. Создать 4x4 пустую матрицу"
      ],
      "metadata": {
        "id": "yXMAV8qkADfn"
      }
    },
    {
      "cell_type": "code",
      "source": [
        "matrix2 = np.empty((4,4))\n",
        "matrix2"
      ],
      "metadata": {
        "trusted": true,
        "id": "rZ6q9WxwADfn",
        "outputId": "cd72f320-fc31-4e3c-d43c-998bf7009966",
        "colab": {
          "base_uri": "https://localhost:8080/"
        }
      },
      "outputs": [
        {
          "output_type": "stream",
          "name": "stdout",
          "text": [
            "[[6.73222589e-316 0.00000000e+000 2.41907520e-312 2.14321575e-312]\n",
            " [2.46151512e-312 2.31297541e-312 2.35541533e-312 2.05833592e-312]\n",
            " [2.22809558e-312 2.56761491e-312 2.48273508e-312 2.05833592e-312]\n",
            " [2.05833592e-312 2.29175545e-312 2.07955588e-312 2.14321575e-312]]\n"
          ]
        }
      ],
      "execution_count": 38
    },
    {
      "cell_type": "markdown",
      "source": [
        "9. Создать единичную матрицу 4x4 со сдвигом на единицу вниз относительно главной диагонали"
      ],
      "metadata": {
        "id": "WjEmXPadADfo"
      }
    },
    {
      "cell_type": "code",
      "source": [
        "matrixeye = np.eye(4,4,-1)\n",
        "matrixeye"
      ],
      "metadata": {
        "trusted": true,
        "id": "X8my9Lr_ADfp",
        "outputId": "8bdc0d47-1338-44c0-8d2d-74925118417b",
        "colab": {
          "base_uri": "https://localhost:8080/"
        }
      },
      "outputs": [
        {
          "output_type": "execute_result",
          "data": {
            "text/plain": [
              "array([[0., 0., 0., 0.],\n",
              "       [1., 0., 0., 0.],\n",
              "       [0., 1., 0., 0.],\n",
              "       [0., 0., 1., 0.]])"
            ]
          },
          "metadata": {},
          "execution_count": 84
        }
      ],
      "execution_count": 84
    },
    {
      "cell_type": "markdown",
      "source": [
        "10. Создать тензор 3x3x3 со случайными значениями"
      ],
      "metadata": {
        "id": "bwepVwXXADfq"
      }
    },
    {
      "cell_type": "code",
      "source": [
        "tens = np.random.random((3,3,3))\n",
        "tens"
      ],
      "metadata": {
        "trusted": true,
        "id": "kzm-KOCTADfq",
        "outputId": "f84ad3c3-9761-45de-90c2-17de9308db54",
        "colab": {
          "base_uri": "https://localhost:8080/"
        }
      },
      "outputs": [
        {
          "output_type": "stream",
          "name": "stdout",
          "text": [
            "[[[0.26271507 0.09085085 0.01358005]\n",
            "  [0.16386482 0.233183   0.51716871]\n",
            "  [0.19210831 0.66396652 0.53152115]]\n",
            "\n",
            " [[0.03302616 0.31145297 0.16481337]\n",
            "  [0.85818534 0.40441831 0.17153889]\n",
            "  [0.85197807 0.39345899 0.36911737]]\n",
            "\n",
            " [[0.81992512 0.29795091 0.93003611]\n",
            "  [0.55717784 0.01627998 0.88546973]\n",
            "  [0.52500313 0.14356999 0.93865641]]]\n"
          ]
        }
      ],
      "execution_count": 40
    },
    {
      "cell_type": "markdown",
      "source": [
        "11. Создать массив 5x5 со случайными значениями, найти минимум и максимум"
      ],
      "metadata": {
        "id": "_TgFS-MNADfr"
      }
    },
    {
      "cell_type": "code",
      "source": [
        "array = np.random.random((5,5))\n",
        "print(array)\n",
        "print(np.min(array))\n",
        "np.max(array)"
      ],
      "metadata": {
        "trusted": true,
        "collapsed": true,
        "id": "p3AJZtavADfs",
        "outputId": "901fe2e9-64bd-4b45-b94c-4beaee4b99b2",
        "colab": {
          "base_uri": "https://localhost:8080/"
        }
      },
      "outputs": [
        {
          "output_type": "stream",
          "name": "stdout",
          "text": [
            "[[0.94782533 0.03820325 0.42107683 0.82604854 0.82248414]\n",
            " [0.01312328 0.58810351 0.75182615 0.39901555 0.14746326]\n",
            " [0.46234494 0.2033741  0.72833177 0.5300169  0.53520071]\n",
            " [0.13360384 0.89581117 0.31892267 0.69114583 0.63535246]\n",
            " [0.72349517 0.55294558 0.44066363 0.12173857 0.3492321 ]]\n",
            "0.013123281916936347\n"
          ]
        },
        {
          "output_type": "execute_result",
          "data": {
            "text/plain": [
              "0.9478253258699243"
            ]
          },
          "metadata": {},
          "execution_count": 90
        }
      ],
      "execution_count": 90
    },
    {
      "cell_type": "markdown",
      "source": [
        "12. Создать случайный вектор размера 50 и найти среднее значение всех элементов"
      ],
      "metadata": {
        "id": "5Pn2yCwXADft"
      }
    },
    {
      "cell_type": "code",
      "source": [
        "vec5 = np.random.random(50)\n",
        "print(vec5)\n",
        "np.mean(vec5)"
      ],
      "metadata": {
        "trusted": true,
        "id": "XwonT-APADft",
        "outputId": "e4e48fdc-188a-4223-e12f-33f395445a52",
        "colab": {
          "base_uri": "https://localhost:8080/"
        }
      },
      "outputs": [
        {
          "output_type": "stream",
          "name": "stdout",
          "text": [
            "[0.96199544 0.4655379  0.20906053 0.81394864 0.29655252 0.97779804\n",
            " 0.27517394 0.57344409 0.70728659 0.04211742 0.74087931 0.92587402\n",
            " 0.87898185 0.3870126  0.57006386 0.44090537 0.83190672 0.26923777\n",
            " 0.40571178 0.56411201 0.74641041 0.37462466 0.68225293 0.03100854\n",
            " 0.73339119 0.29312149 0.87358798 0.12866233 0.43945663 0.12043822\n",
            " 0.26943604 0.19472944 0.07707306 0.28608455 0.15980506 0.27071434\n",
            " 0.70733196 0.61605571 0.26035574 0.58168011 0.98663329 0.63217249\n",
            " 0.57542888 0.56982276 0.92118254 0.68256843 0.67683116 0.52221947\n",
            " 0.25412134 0.60106127]\n"
          ]
        },
        {
          "output_type": "execute_result",
          "data": {
            "text/plain": [
              "0.5121172476898481"
            ]
          },
          "metadata": {},
          "execution_count": 91
        }
      ],
      "execution_count": 91
    },
    {
      "cell_type": "markdown",
      "source": [
        "13. Создать матрицу с 0 внутри, и 1 на границах"
      ],
      "metadata": {
        "id": "2V4S5H-5ADfu"
      }
    },
    {
      "cell_type": "code",
      "source": [
        "matrixWindow = np.zeros((5,5))\n",
        "matrixWindow[0,:] = 1\n",
        "matrixWindow[-1,:] = 1\n",
        "matrixWindow[:,0] = 1\n",
        "matrixWindow[:,-1] = 1\n",
        "matrixWindow"
      ],
      "metadata": {
        "trusted": true,
        "id": "86nh3rMQADfv",
        "outputId": "8bfbb925-5314-4483-e695-ad48c6276cb9",
        "colab": {
          "base_uri": "https://localhost:8080/"
        }
      },
      "outputs": [
        {
          "output_type": "execute_result",
          "data": {
            "text/plain": [
              "array([[1., 1., 1., 1., 1.],\n",
              "       [1., 0., 0., 0., 1.],\n",
              "       [1., 0., 0., 0., 1.],\n",
              "       [1., 0., 0., 0., 1.],\n",
              "       [1., 1., 1., 1., 1.]])"
            ]
          },
          "metadata": {},
          "execution_count": 92
        }
      ],
      "execution_count": 92
    },
    {
      "cell_type": "markdown",
      "source": [
        "14. Создать 5x5 матрицу с 1,2,3,4 под диагональю"
      ],
      "metadata": {
        "id": "PyrqCFMMADfw"
      }
    },
    {
      "cell_type": "code",
      "source": [
        "matrixsdvig = 1+np.arange(4)\n",
        "np.diag(matrixsdvig,k=-1)"
      ],
      "metadata": {
        "trusted": true,
        "id": "sAAYw86KADfw",
        "outputId": "a66f18c3-2b21-4996-e5b2-7a2d113b75ab",
        "colab": {
          "base_uri": "https://localhost:8080/"
        }
      },
      "outputs": [
        {
          "output_type": "execute_result",
          "data": {
            "text/plain": [
              "array([[0, 0, 0, 0, 0],\n",
              "       [1, 0, 0, 0, 0],\n",
              "       [0, 2, 0, 0, 0],\n",
              "       [0, 0, 3, 0, 0],\n",
              "       [0, 0, 0, 4, 0]])"
            ]
          },
          "metadata": {},
          "execution_count": 93
        }
      ],
      "execution_count": 93
    },
    {
      "cell_type": "markdown",
      "source": [
        "15. Перемножить матрицы 5x3 и 3x2"
      ],
      "metadata": {
        "id": "kDbRtBIZADfy"
      }
    },
    {
      "cell_type": "code",
      "source": [
        "matrixA = np.arange(15).reshape(5,3)\n",
        "matrixB = np.arange(6).reshape(3,2)\n",
        "matrixA.dot(matrixB)"
      ],
      "metadata": {
        "trusted": true,
        "id": "74P2MajoADfy",
        "outputId": "e6e6be00-0cfc-4512-a11f-dfddc3ab45d6",
        "colab": {
          "base_uri": "https://localhost:8080/"
        }
      },
      "outputs": [
        {
          "output_type": "execute_result",
          "data": {
            "text/plain": [
              "array([[ 10,  13],\n",
              "       [ 28,  40],\n",
              "       [ 46,  67],\n",
              "       [ 64,  94],\n",
              "       [ 82, 121]])"
            ]
          },
          "metadata": {},
          "execution_count": 94
        }
      ],
      "execution_count": 94
    },
    {
      "cell_type": "markdown",
      "source": [
        "16. Создать вектор состоящий из 15 элементов, поменять знак у элементов, значения которых между 6 и 12"
      ],
      "metadata": {
        "id": "WKUSCaY_ADfz"
      }
    },
    {
      "cell_type": "code",
      "source": [
        "vec6 = np.arange(15)\n",
        "np.where((vec6 > 6) & (vec6 < 12), -vec6, vec6)"
      ],
      "metadata": {
        "trusted": true,
        "id": "M5B_aQcIADf0",
        "outputId": "a53504c5-7ae6-46ba-fe50-9267f91a2fc4",
        "colab": {
          "base_uri": "https://localhost:8080/"
        }
      },
      "outputs": [
        {
          "output_type": "execute_result",
          "data": {
            "text/plain": [
              "array([  0,   1,   2,   3,   4,   5,   6,  -7,  -8,  -9, -10, -11,  12,\n",
              "        13,  14])"
            ]
          },
          "metadata": {},
          "execution_count": 95
        }
      ],
      "execution_count": 95
    },
    {
      "cell_type": "markdown",
      "source": [
        "17. Создать 2 матрицы A(3x3) и B(3x3), получить матрицу С путем поэлеметного умножения."
      ],
      "metadata": {
        "id": "r6JzaRnwADf0"
      }
    },
    {
      "cell_type": "code",
      "source": [
        "matrixA = np.arange(9).reshape(3,3)\n",
        "matrixB = np.arange(10,19).reshape(3,3)\n",
        "matrixC = matrixA*matrixB\n",
        "matrixC"
      ],
      "metadata": {
        "trusted": true,
        "id": "qEpU6V7TADf1",
        "outputId": "b61ab17e-fd34-44bc-ed1a-809ffb05aa42",
        "colab": {
          "base_uri": "https://localhost:8080/"
        }
      },
      "outputs": [
        {
          "output_type": "execute_result",
          "data": {
            "text/plain": [
              "array([[  0,  11,  24],\n",
              "       [ 39,  56,  75],\n",
              "       [ 96, 119, 144]])"
            ]
          },
          "metadata": {},
          "execution_count": 96
        }
      ],
      "execution_count": 96
    },
    {
      "cell_type": "markdown",
      "source": [
        "18. Найти максимальные и минимальные значения матрицы С по строкам и столбцам"
      ],
      "metadata": {
        "id": "A50mZwrxADf1"
      }
    },
    {
      "cell_type": "code",
      "source": [
        "matrixA = np.arange(9).reshape(3,3)\n",
        "print(matrixA)\n",
        "print(np.max(matrixA, axis = 0))#столбец\n",
        "print(np.max(matrixA, axis = 1))#строка\n",
        "print(np.min(matrixA, axis = 0))\n",
        "print(np.min(matrixA, axis = 1))"
      ],
      "metadata": {
        "trusted": true,
        "id": "2WQz016iADf2",
        "outputId": "e72083ab-bc78-496d-fa8e-0ba6cdd1c805",
        "colab": {
          "base_uri": "https://localhost:8080/"
        }
      },
      "outputs": [
        {
          "output_type": "stream",
          "name": "stdout",
          "text": [
            "[[0 1 2]\n",
            " [3 4 5]\n",
            " [6 7 8]]\n",
            "[6 7 8]\n",
            "[2 5 8]\n",
            "[0 1 2]\n",
            "[0 3 6]\n"
          ]
        }
      ],
      "execution_count": 48
    },
    {
      "cell_type": "markdown",
      "source": [
        "19. Создать вектор со значениями от 0 до 1 c 10 наблюдениями"
      ],
      "metadata": {
        "id": "uJbvUsI3ADgA"
      }
    },
    {
      "cell_type": "code",
      "source": [
        "vecNab = np.linspace(0,1,10)\n",
        "vecNab"
      ],
      "metadata": {
        "trusted": true,
        "id": "DMNiSDQwADgB",
        "outputId": "ab3b4b63-e1d5-4e0e-99ac-ab9026d988c5",
        "colab": {
          "base_uri": "https://localhost:8080/"
        }
      },
      "outputs": [
        {
          "output_type": "execute_result",
          "data": {
            "text/plain": [
              "array([0.        , 0.11111111, 0.22222222, 0.33333333, 0.44444444,\n",
              "       0.55555556, 0.66666667, 0.77777778, 0.88888889, 1.        ])"
            ]
          },
          "metadata": {},
          "execution_count": 97
        }
      ],
      "execution_count": 97
    },
    {
      "cell_type": "markdown",
      "source": [
        "20. Отсортировать вектор"
      ],
      "metadata": {
        "id": "ztfJVQJdADgB"
      }
    },
    {
      "cell_type": "code",
      "source": [
        "vec = np.random.random((4,4))\n",
        "print(vec)\n",
        "np.sort(vec)"
      ],
      "metadata": {
        "trusted": true,
        "id": "G95rQFnqADgC",
        "outputId": "45906b7a-4ac6-4cbf-e2a2-fa8d7712c30b",
        "colab": {
          "base_uri": "https://localhost:8080/"
        }
      },
      "outputs": [
        {
          "output_type": "stream",
          "name": "stdout",
          "text": [
            "[[0.7810558  0.23076819 0.37239286 0.03846907]\n",
            " [0.7558439  0.01620664 0.66220019 0.28947362]\n",
            " [0.74502002 0.55690641 0.66115971 0.08967186]\n",
            " [0.02556828 0.77960739 0.46726222 0.98487784]]\n"
          ]
        },
        {
          "output_type": "execute_result",
          "data": {
            "text/plain": [
              "array([[0.03846907, 0.23076819, 0.37239286, 0.7810558 ],\n",
              "       [0.01620664, 0.28947362, 0.66220019, 0.7558439 ],\n",
              "       [0.08967186, 0.55690641, 0.66115971, 0.74502002],\n",
              "       [0.02556828, 0.46726222, 0.77960739, 0.98487784]])"
            ]
          },
          "metadata": {},
          "execution_count": 99
        }
      ],
      "execution_count": 99
    },
    {
      "cell_type": "markdown",
      "source": [
        "21. Проверить, одинаковы ли 2 numpy массива"
      ],
      "metadata": {
        "id": "iHzg2ivIADgD"
      }
    },
    {
      "cell_type": "code",
      "source": [
        "a = np.array([1, 2, 3])\n",
        "b = np.array([1, 2, 3])\n",
        "np.array_equal(a, b)"
      ],
      "metadata": {
        "trusted": true,
        "id": "UyfzOPdEADgD",
        "outputId": "4d23362e-8edc-4e78-bf4b-c5b621cb5395",
        "colab": {
          "base_uri": "https://localhost:8080/"
        }
      },
      "outputs": [
        {
          "output_type": "execute_result",
          "data": {
            "text/plain": [
              "True"
            ]
          },
          "metadata": {},
          "execution_count": 100
        }
      ],
      "execution_count": 100
    },
    {
      "cell_type": "markdown",
      "source": [
        "22. Сделать массив неизменяемым"
      ],
      "metadata": {
        "id": "eWXTwWRqADgE"
      }
    },
    {
      "cell_type": "code",
      "source": [
        "arr = np.array([1, 2, 3])\n",
        "arr.flags.writeable = False\n",
        "arr[0] = 3"
      ],
      "metadata": {
        "trusted": true,
        "id": "m4v4rP8vADgF",
        "outputId": "32369f75-cf6c-47cb-b7a1-c91971719ec6",
        "colab": {
          "base_uri": "https://localhost:8080/",
          "height": 263
        }
      },
      "outputs": [
        {
          "output_type": "error",
          "ename": "ValueError",
          "evalue": "assignment destination is read-only",
          "traceback": [
            "\u001b[0;31m---------------------------------------------------------------------------\u001b[0m",
            "\u001b[0;31mValueError\u001b[0m                                Traceback (most recent call last)",
            "\u001b[0;32m<ipython-input-52-db0be08daa94>\u001b[0m in \u001b[0;36m<cell line: 0>\u001b[0;34m()\u001b[0m\n\u001b[1;32m      1\u001b[0m \u001b[0marr\u001b[0m \u001b[0;34m=\u001b[0m \u001b[0mnp\u001b[0m\u001b[0;34m.\u001b[0m\u001b[0marray\u001b[0m\u001b[0;34m(\u001b[0m\u001b[0;34m[\u001b[0m\u001b[0;36m1\u001b[0m\u001b[0;34m,\u001b[0m \u001b[0;36m2\u001b[0m\u001b[0;34m,\u001b[0m \u001b[0;36m3\u001b[0m\u001b[0;34m]\u001b[0m\u001b[0;34m)\u001b[0m\u001b[0;34m\u001b[0m\u001b[0;34m\u001b[0m\u001b[0m\n\u001b[1;32m      2\u001b[0m \u001b[0marr\u001b[0m\u001b[0;34m.\u001b[0m\u001b[0mflags\u001b[0m\u001b[0;34m.\u001b[0m\u001b[0mwriteable\u001b[0m \u001b[0;34m=\u001b[0m \u001b[0;32mFalse\u001b[0m\u001b[0;34m\u001b[0m\u001b[0;34m\u001b[0m\u001b[0m\n\u001b[0;32m----> 3\u001b[0;31m \u001b[0marr\u001b[0m\u001b[0;34m[\u001b[0m\u001b[0;36m0\u001b[0m\u001b[0;34m]\u001b[0m \u001b[0;34m=\u001b[0m \u001b[0;36m3\u001b[0m\u001b[0;34m\u001b[0m\u001b[0;34m\u001b[0m\u001b[0m\n\u001b[0m",
            "\u001b[0;31mValueError\u001b[0m: assignment destination is read-only"
          ]
        }
      ],
      "execution_count": 52
    },
    {
      "cell_type": "markdown",
      "source": [
        "23. Создать случайный вектор из 20 элементов, найти квантиль от 10% и от 80%"
      ],
      "metadata": {
        "id": "UsAa86oSADgG"
      }
    },
    {
      "cell_type": "code",
      "source": [
        "vec8 = np.arange(20)\n",
        "print(np.quantile(vec8, 0.1))\n",
        "print(np.quantile(vec8, 0.8))"
      ],
      "metadata": {
        "trusted": true,
        "id": "sMvY39uOADgH"
      },
      "outputs": [],
      "execution_count": null
    },
    {
      "cell_type": "markdown",
      "source": [
        "24. Создать массив любой размерности состоящий из int и string"
      ],
      "metadata": {
        "id": "V8u5wnl6ADgI"
      }
    },
    {
      "cell_type": "code",
      "source": [
        "listing = np.array([1,2,3,\"asd\"],dtype=object)\n",
        "listing"
      ],
      "metadata": {
        "trusted": true,
        "id": "P0lSBR8SADgJ",
        "outputId": "36caac41-7cef-4aa4-855e-db5615b8a62b",
        "colab": {
          "base_uri": "https://localhost:8080/"
        }
      },
      "outputs": [
        {
          "output_type": "execute_result",
          "data": {
            "text/plain": [
              "array([1, 2, 3, 'asd'], dtype=object)"
            ]
          },
          "metadata": {},
          "execution_count": 101
        }
      ],
      "execution_count": 101
    },
    {
      "cell_type": "markdown",
      "source": [
        "25. Найти минимальное и максимальное значение, принимаемое каждым числовым типом numpy"
      ],
      "metadata": {
        "id": "wx_MXZ1KADgK"
      }
    },
    {
      "cell_type": "code",
      "source": [
        "print(np.finfo(np.float64).min)\n",
        "print(np.iinfo(np.int64).min)"
      ],
      "metadata": {
        "trusted": true,
        "id": "ANgsA7HeADgL"
      },
      "outputs": [],
      "execution_count": null
    },
    {
      "cell_type": "markdown",
      "source": [
        "26. Преобразовать массив из float в int"
      ],
      "metadata": {
        "id": "cUEbtShaADgN"
      }
    },
    {
      "cell_type": "code",
      "source": [
        "vec9 = np.array([1.2, 3.5])\n",
        "print(vec9.dtype)\n",
        "vec9 = vec9.astype(np.int64)\n",
        "print(vec9.dtype)\n",
        "vec9"
      ],
      "metadata": {
        "trusted": true,
        "id": "62_zg6bfADgO",
        "outputId": "359348cb-7433-4622-d872-ce731c641cc4",
        "colab": {
          "base_uri": "https://localhost:8080/"
        }
      },
      "outputs": [
        {
          "output_type": "stream",
          "name": "stdout",
          "text": [
            "float64\n",
            "int64\n"
          ]
        },
        {
          "output_type": "execute_result",
          "data": {
            "text/plain": [
              "array([1, 3])"
            ]
          },
          "metadata": {},
          "execution_count": 102
        }
      ],
      "execution_count": 102
    },
    {
      "cell_type": "markdown",
      "source": [
        "27. Отнять среднее из каждой строки в матрице"
      ],
      "metadata": {
        "id": "hrDCjhfiADgP"
      }
    },
    {
      "cell_type": "code",
      "source": [
        "mat = np.arange(25).reshape(5,5)\n",
        "print(mat)\n",
        "mat - np.average(mat)"
      ],
      "metadata": {
        "trusted": true,
        "id": "SEIz9xtcADgQ",
        "outputId": "4675f704-d606-4cdf-ef88-5d7d0033f34e",
        "colab": {
          "base_uri": "https://localhost:8080/"
        }
      },
      "outputs": [
        {
          "output_type": "stream",
          "name": "stdout",
          "text": [
            "[[ 0  1  2  3  4]\n",
            " [ 5  6  7  8  9]\n",
            " [10 11 12 13 14]\n",
            " [15 16 17 18 19]\n",
            " [20 21 22 23 24]]\n"
          ]
        },
        {
          "output_type": "execute_result",
          "data": {
            "text/plain": [
              "array([[-12., -11., -10.,  -9.,  -8.],\n",
              "       [ -7.,  -6.,  -5.,  -4.,  -3.],\n",
              "       [ -2.,  -1.,   0.,   1.,   2.],\n",
              "       [  3.,   4.,   5.,   6.,   7.],\n",
              "       [  8.,   9.,  10.,  11.,  12.]])"
            ]
          },
          "metadata": {},
          "execution_count": 103
        }
      ],
      "execution_count": 103
    },
    {
      "cell_type": "markdown",
      "source": [
        "28.\n",
        "\n",
        "Дана данные из файла.\n",
        "\n",
        "1,2,3,4,5\n",
        "\n",
        "6,,,7,8\n",
        "\n",
        ",,9,10,11\n",
        "\n",
        "Необходимо прочитать его\n"
      ],
      "metadata": {
        "id": "hPWqSR1jADgR"
      }
    },
    {
      "cell_type": "code",
      "source": [
        "import numpy as np\n",
        "import io\n",
        "\n",
        "# Исходная строка\n",
        "str_data = \"1,2,3,4,5\\\n",
        "            6,,,7,8\\\n",
        "            ,,9,10,11\"\n",
        "\n",
        "data = np.genfromtxt(io.StringIO(str_data), delimiter=\",\", dtype=float)\n",
        "data"
      ],
      "metadata": {
        "trusted": true,
        "id": "C9b9j6OKADgR",
        "outputId": "93cb6d96-4fb7-4353-d9ca-0801e623b35e",
        "colab": {
          "base_uri": "https://localhost:8080/"
        }
      },
      "outputs": [
        {
          "output_type": "execute_result",
          "data": {
            "text/plain": [
              "array([ 1.,  2.,  3.,  4., nan, nan, nan,  7.,  8., nan,  9., 10., 11.])"
            ]
          },
          "metadata": {},
          "execution_count": 104
        }
      ],
      "execution_count": 104
    },
    {
      "cell_type": "markdown",
      "source": [
        "29. Посчитайте сумму квадратов натуральных чисел от 1 до 10000."
      ],
      "metadata": {
        "id": "t05ZnYCdADgS"
      }
    },
    {
      "cell_type": "code",
      "source": [
        "vector = 1+np.arange(10000)\n",
        "vector = np.power(vector,2)\n",
        "vector = np.sum(vector)\n",
        "vector"
      ],
      "metadata": {
        "trusted": true,
        "id": "yjeBJl2EADgT",
        "outputId": "eb23df7c-f9cf-40d1-e243-854de609ddb6",
        "colab": {
          "base_uri": "https://localhost:8080/"
        }
      },
      "outputs": [
        {
          "output_type": "execute_result",
          "data": {
            "text/plain": [
              "333383335000"
            ]
          },
          "metadata": {},
          "execution_count": 105
        }
      ],
      "execution_count": 105
    },
    {
      "cell_type": "markdown",
      "source": [
        "## BLOKE №2 (tensors)"
      ],
      "metadata": {
        "id": "fOrc72bdADgU"
      }
    },
    {
      "cell_type": "markdown",
      "source": [
        "1. Импортируйте pytorch"
      ],
      "metadata": {
        "id": "DKdSq9X6ADgV"
      }
    },
    {
      "cell_type": "code",
      "source": [
        "import torch"
      ],
      "metadata": {
        "trusted": true,
        "id": "v1DH0fdrADgV"
      },
      "outputs": [],
      "execution_count": 57
    },
    {
      "cell_type": "markdown",
      "source": [
        "2. Создать вектор состящий из 10 элементов"
      ],
      "metadata": {
        "id": "mFgrDzjuADgW"
      }
    },
    {
      "cell_type": "code",
      "source": [
        "torch.empty(10)"
      ],
      "metadata": {
        "trusted": true,
        "id": "NcaaOH7XADgX",
        "outputId": "816d7474-b51d-43bc-fd63-46c7942ce486",
        "colab": {
          "base_uri": "https://localhost:8080/"
        }
      },
      "outputs": [
        {
          "output_type": "execute_result",
          "data": {
            "text/plain": [
              "tensor([2.1707e-18, 7.0952e+22, 1.7748e+28, 1.8176e+31, 7.2708e+31, 5.0778e+31,\n",
              "        3.2608e-12, 1.7728e+28, 7.0367e+22, 2.1715e-18])"
            ]
          },
          "metadata": {},
          "execution_count": 58
        }
      ],
      "execution_count": 58
    },
    {
      "cell_type": "markdown",
      "source": [
        "3. Создать тензор из python list"
      ],
      "metadata": {
        "id": "dUtYvoD8ADgY"
      }
    },
    {
      "cell_type": "code",
      "source": [
        "torch.tensor([1, 2, 3, 4, 5])"
      ],
      "metadata": {
        "trusted": true,
        "id": "zL_0MWISADgZ",
        "outputId": "d353ce6f-b50d-4f49-9306-16c45b892970",
        "colab": {
          "base_uri": "https://localhost:8080/"
        }
      },
      "outputs": [
        {
          "output_type": "execute_result",
          "data": {
            "text/plain": [
              "tensor([1, 2, 3, 4, 5])"
            ]
          },
          "metadata": {},
          "execution_count": 59
        }
      ],
      "execution_count": 59
    },
    {
      "cell_type": "markdown",
      "source": [
        "4. Создать тензор из np.array"
      ],
      "metadata": {
        "id": "vzI3QqTyADga"
      }
    },
    {
      "cell_type": "code",
      "source": [
        "torch.tensor(np.array([1, 2, 3, 4, 5]))"
      ],
      "metadata": {
        "trusted": true,
        "id": "NHIq9Gv4ADgb",
        "outputId": "27b13279-20f3-4911-d5f0-ff26e664b967",
        "colab": {
          "base_uri": "https://localhost:8080/"
        }
      },
      "outputs": [
        {
          "output_type": "execute_result",
          "data": {
            "text/plain": [
              "tensor([1, 2, 3, 4, 5])"
            ]
          },
          "metadata": {},
          "execution_count": 60
        }
      ],
      "execution_count": 60
    },
    {
      "cell_type": "markdown",
      "source": [
        "5. Создать тензор с нормальным распределением"
      ],
      "metadata": {
        "id": "pluxP3HtADgc"
      }
    },
    {
      "cell_type": "code",
      "source": [
        "torch.randn(3,3)"
      ],
      "metadata": {
        "trusted": true,
        "id": "Wa_LoZduADgd",
        "outputId": "9be8f4de-1780-4a20-8fac-6a66c439a51b",
        "colab": {
          "base_uri": "https://localhost:8080/"
        }
      },
      "outputs": [
        {
          "output_type": "execute_result",
          "data": {
            "text/plain": [
              "tensor([[ 1.3969,  0.8210,  0.1273],\n",
              "        [-0.2227,  2.6489,  1.2397],\n",
              "        [ 0.5957, -0.9770,  1.0906]])"
            ]
          },
          "metadata": {},
          "execution_count": 61
        }
      ],
      "execution_count": 61
    },
    {
      "cell_type": "markdown",
      "source": [
        "6. Создать тензор размером 3х3х3"
      ],
      "metadata": {
        "id": "cFZwdhSnADge"
      }
    },
    {
      "cell_type": "code",
      "source": [
        "torch.randn(3,3,3)"
      ],
      "metadata": {
        "trusted": true,
        "id": "8maXUPpbADge",
        "outputId": "7384a6bc-f7de-4fa5-c0a6-c7a0d2427628",
        "colab": {
          "base_uri": "https://localhost:8080/"
        }
      },
      "outputs": [
        {
          "output_type": "execute_result",
          "data": {
            "text/plain": [
              "tensor([[[ 2.6208, -2.2785, -0.3546],\n",
              "         [-0.9521, -2.3431,  1.2441],\n",
              "         [ 2.1441,  1.3255,  0.9831]],\n",
              "\n",
              "        [[ 1.2452, -0.4214,  1.6674],\n",
              "         [ 1.6441, -2.0360,  0.8609],\n",
              "         [ 0.7578,  0.6985, -1.2408]],\n",
              "\n",
              "        [[ 0.4733,  0.5173,  0.2794],\n",
              "         [-1.0555,  0.6131,  0.6187],\n",
              "         [ 0.7231,  0.7123,  2.0867]]])"
            ]
          },
          "metadata": {},
          "execution_count": 62
        }
      ],
      "execution_count": 62
    },
    {
      "cell_type": "markdown",
      "source": [
        "7. Создать единичную матрицу размером 4х5"
      ],
      "metadata": {
        "id": "hAgLWhaFADgf"
      }
    },
    {
      "cell_type": "code",
      "source": [
        "torch.eye(4,5)"
      ],
      "metadata": {
        "trusted": true,
        "id": "f0a3wCCkADgf",
        "outputId": "878d52da-c45f-48f9-d557-26b71553b674",
        "colab": {
          "base_uri": "https://localhost:8080/"
        }
      },
      "outputs": [
        {
          "output_type": "execute_result",
          "data": {
            "text/plain": [
              "tensor([[1., 0., 0., 0., 0.],\n",
              "        [0., 1., 0., 0., 0.],\n",
              "        [0., 0., 1., 0., 0.],\n",
              "        [0., 0., 0., 1., 0.]])"
            ]
          },
          "metadata": {},
          "execution_count": 63
        }
      ],
      "execution_count": 63
    },
    {
      "cell_type": "markdown",
      "source": [
        "8. Создать вектор размера 25, заполнить елементами со значениме pi"
      ],
      "metadata": {
        "id": "H0AOY8x-ADgg"
      }
    },
    {
      "cell_type": "code",
      "source": [
        "torch.full([25], np.pi)"
      ],
      "metadata": {
        "trusted": true,
        "id": "UAX5S6AoADgh",
        "outputId": "9a1316e3-b10b-4600-da13-2ba393ae1564",
        "colab": {
          "base_uri": "https://localhost:8080/"
        }
      },
      "outputs": [
        {
          "output_type": "execute_result",
          "data": {
            "text/plain": [
              "tensor([3.1416, 3.1416, 3.1416, 3.1416, 3.1416, 3.1416, 3.1416, 3.1416, 3.1416,\n",
              "        3.1416, 3.1416, 3.1416, 3.1416, 3.1416, 3.1416, 3.1416, 3.1416, 3.1416,\n",
              "        3.1416, 3.1416, 3.1416, 3.1416, 3.1416, 3.1416, 3.1416])"
            ]
          },
          "metadata": {},
          "execution_count": 64
        }
      ],
      "execution_count": 64
    },
    {
      "cell_type": "markdown",
      "source": [
        "9. Умножить матрицу размера 9, заполненная от 0 до 8, поэлементно на любое число"
      ],
      "metadata": {
        "id": "At6nAzZdADgi"
      }
    },
    {
      "cell_type": "code",
      "source": [
        "A = torch.tensor(np.arange(9).reshape(3,3))\n",
        "A = torch.multiply(A,3)\n",
        "print(A)"
      ],
      "metadata": {
        "trusted": true,
        "id": "gXdOp2EfADgj",
        "outputId": "fa2d8f0e-02d5-43cc-9c2e-055b72434022",
        "colab": {
          "base_uri": "https://localhost:8080/"
        }
      },
      "outputs": [
        {
          "output_type": "stream",
          "name": "stdout",
          "text": [
            "tensor([[ 0,  3,  6],\n",
            "        [ 9, 12, 15],\n",
            "        [18, 21, 24]])\n"
          ]
        }
      ],
      "execution_count": 65
    },
    {
      "cell_type": "markdown",
      "source": [
        "10. Создать произвольный тензор с типом данных int8"
      ],
      "metadata": {
        "id": "jl-gcjWmADgj"
      }
    },
    {
      "cell_type": "code",
      "source": [
        "torch.tensor([1,2, 3, 4], dtype = torch.int8)"
      ],
      "metadata": {
        "trusted": true,
        "id": "uQp1wpElADgk",
        "outputId": "e2ffe8df-3e18-447b-8ed4-d630df0887f5",
        "colab": {
          "base_uri": "https://localhost:8080/"
        }
      },
      "outputs": [
        {
          "output_type": "execute_result",
          "data": {
            "text/plain": [
              "tensor([1, 2, 3, 4], dtype=torch.int8)"
            ]
          },
          "metadata": {},
          "execution_count": 66
        }
      ],
      "execution_count": 66
    },
    {
      "cell_type": "markdown",
      "source": [
        "11. Изменить тип данных из пункта 10 на int64"
      ],
      "metadata": {
        "id": "Cwr3vWk8ADgk"
      }
    },
    {
      "cell_type": "code",
      "source": [
        "torch.tensor([1,2, 3, 4], dtype = torch.int64)"
      ],
      "metadata": {
        "trusted": true,
        "id": "aEyMhAuTADgl",
        "outputId": "8ad5ee32-979b-46ca-a2c2-e62af06d7026",
        "colab": {
          "base_uri": "https://localhost:8080/"
        }
      },
      "outputs": [
        {
          "output_type": "execute_result",
          "data": {
            "text/plain": [
              "tensor([1, 2, 3, 4])"
            ]
          },
          "metadata": {},
          "execution_count": 67
        }
      ],
      "execution_count": 67
    },
    {
      "cell_type": "markdown",
      "source": [
        "12. Создать случайный тензор размера 4x5 и найти среднее по 2му столбцу."
      ],
      "metadata": {
        "id": "W_jTx3GBADgm"
      }
    },
    {
      "cell_type": "code",
      "source": [
        "A = torch.arange(9).reshape(3,3)\n",
        "print(A)\n",
        "torch.mean(A.float(),dim = 0)[1]"
      ],
      "metadata": {
        "trusted": true,
        "id": "bnctC9P-ADgm",
        "outputId": "aa80eea3-9ab2-49c3-d6cf-61ebbb502ab9",
        "colab": {
          "base_uri": "https://localhost:8080/"
        }
      },
      "outputs": [
        {
          "output_type": "stream",
          "name": "stdout",
          "text": [
            "tensor([[0, 1, 2],\n",
            "        [3, 4, 5],\n",
            "        [6, 7, 8]])\n"
          ]
        },
        {
          "output_type": "execute_result",
          "data": {
            "text/plain": [
              "tensor(4.)"
            ]
          },
          "metadata": {},
          "execution_count": 68
        }
      ],
      "execution_count": 68
    },
    {
      "cell_type": "markdown",
      "source": [
        "13. Создать пустой тензор произвольных размеров"
      ],
      "metadata": {
        "id": "Ojbt4QBCADgn"
      }
    },
    {
      "cell_type": "code",
      "source": [
        "torch.empty(32)"
      ],
      "metadata": {
        "trusted": true,
        "id": "Az_tm1r2ADgn",
        "outputId": "3f05598d-085e-4f57-96ad-2feecf44cbc9",
        "colab": {
          "base_uri": "https://localhost:8080/"
        }
      },
      "outputs": [
        {
          "output_type": "execute_result",
          "data": {
            "text/plain": [
              "tensor([ 6.3451e-35,  0.0000e+00, -2.0276e+19,  4.5857e-41,  0.0000e+00,\n",
              "         0.0000e+00,  0.0000e+00,  0.0000e+00,  0.0000e+00,  0.0000e+00,\n",
              "         0.0000e+00,  0.0000e+00,  0.0000e+00,  0.0000e+00,  0.0000e+00,\n",
              "         0.0000e+00,  1.4013e-45,  0.0000e+00,  0.0000e+00,  0.0000e+00,\n",
              "         0.0000e+00,  0.0000e+00,  0.0000e+00,  0.0000e+00,  0.0000e+00,\n",
              "         0.0000e+00,  0.0000e+00,  0.0000e+00,  1.4013e-45,  0.0000e+00,\n",
              "        -1.7014e+38,  1.1515e-40])"
            ]
          },
          "metadata": {},
          "execution_count": 69
        }
      ],
      "execution_count": 69
    },
    {
      "cell_type": "markdown",
      "source": [
        "14. Скалярно умножить 2 вектора"
      ],
      "metadata": {
        "id": "X7WHa_3BADgo"
      }
    },
    {
      "cell_type": "code",
      "source": [
        "A = torch.randn(3)\n",
        "B = torch.randn(3)\n",
        "C = torch.dot(A,B)\n",
        "C"
      ],
      "metadata": {
        "trusted": true,
        "id": "FRUUOgicADgp",
        "outputId": "b6d71532-5d54-48cb-8735-864c6426ea7f",
        "colab": {
          "base_uri": "https://localhost:8080/"
        }
      },
      "outputs": [
        {
          "output_type": "execute_result",
          "data": {
            "text/plain": [
              "tensor(1.6524)"
            ]
          },
          "metadata": {},
          "execution_count": 106
        }
      ],
      "execution_count": 106
    },
    {
      "cell_type": "markdown",
      "source": [
        "15. Умножить матрицу на вектор"
      ],
      "metadata": {
        "id": "hv9AQWoJADgq"
      }
    },
    {
      "cell_type": "code",
      "source": [
        "A = torch.arange(1,10).reshape(3,3)\n",
        "B = torch.tensor([1,2,3])\n",
        "C = torch.matmul(A,B)\n",
        "print(C)\n",
        "A"
      ],
      "metadata": {
        "trusted": true,
        "id": "M3M5HjAGADgq",
        "outputId": "a8c786f0-3cce-4fa0-ad56-a445f2f8fddd",
        "colab": {
          "base_uri": "https://localhost:8080/"
        }
      },
      "outputs": [
        {
          "output_type": "stream",
          "name": "stdout",
          "text": [
            "tensor([14, 32, 50])\n"
          ]
        },
        {
          "output_type": "execute_result",
          "data": {
            "text/plain": [
              "tensor([[1, 2, 3],\n",
              "        [4, 5, 6],\n",
              "        [7, 8, 9]])"
            ]
          },
          "metadata": {},
          "execution_count": 107
        }
      ],
      "execution_count": 107
    },
    {
      "cell_type": "markdown",
      "source": [
        "16. Перемножить 2D матрицы"
      ],
      "metadata": {
        "id": "sDxj6pDXADgr"
      }
    },
    {
      "cell_type": "code",
      "source": [
        "A = torch.arange(1,10).reshape(3,3)\n",
        "B = torch.arange(10, 19).reshape(3,3)\n",
        "C = torch.matmul(A, B)\n",
        "C"
      ],
      "metadata": {
        "trusted": true,
        "id": "p2iE5ipqADgr",
        "outputId": "e9953298-1560-454a-affa-7d65bd139417",
        "colab": {
          "base_uri": "https://localhost:8080/"
        }
      },
      "outputs": [
        {
          "output_type": "execute_result",
          "data": {
            "text/plain": [
              "tensor([[ 84,  90,  96],\n",
              "        [201, 216, 231],\n",
              "        [318, 342, 366]])"
            ]
          },
          "metadata": {},
          "execution_count": 108
        }
      ],
      "execution_count": 108
    },
    {
      "cell_type": "markdown",
      "source": [
        "17. Перемножить 3D тензоры"
      ],
      "metadata": {
        "id": "bIUx107tADgs"
      }
    },
    {
      "cell_type": "code",
      "source": [
        "A = torch.arange(27).reshape(3,3,3)\n",
        "B = torch.arange(27).reshape(3,3,3)\n",
        "C = torch.matmul(A, B)\n",
        "C"
      ],
      "metadata": {
        "trusted": true,
        "id": "mBUz6dPNADgt",
        "outputId": "5926d27d-4ce0-4538-8cc6-68488293b602",
        "colab": {
          "base_uri": "https://localhost:8080/"
        }
      },
      "outputs": [
        {
          "output_type": "execute_result",
          "data": {
            "text/plain": [
              "tensor([[[  15,   18,   21],\n",
              "         [  42,   54,   66],\n",
              "         [  69,   90,  111]],\n",
              "\n",
              "        [[ 366,  396,  426],\n",
              "         [ 474,  513,  552],\n",
              "         [ 582,  630,  678]],\n",
              "\n",
              "        [[1203, 1260, 1317],\n",
              "         [1392, 1458, 1524],\n",
              "         [1581, 1656, 1731]]])"
            ]
          },
          "metadata": {},
          "execution_count": 109
        }
      ],
      "execution_count": 109
    },
    {
      "cell_type": "markdown",
      "source": [
        "18. Создать вектор с нормальным распределением и вывести элементы больше 0.5"
      ],
      "metadata": {
        "id": "2Es_OF6pADgt"
      }
    },
    {
      "cell_type": "code",
      "source": [
        "A = torch.randn(10)\n",
        "A[A > 0.5]"
      ],
      "metadata": {
        "trusted": true,
        "id": "0iDFR1_5ADgu",
        "outputId": "5db724e9-1fb7-41ca-871e-8ffd7d3f027f",
        "colab": {
          "base_uri": "https://localhost:8080/"
        }
      },
      "outputs": [
        {
          "output_type": "execute_result",
          "data": {
            "text/plain": [
              "tensor([0.9810, 0.8150, 0.5805])"
            ]
          },
          "metadata": {},
          "execution_count": 114
        }
      ],
      "execution_count": 114
    },
    {
      "cell_type": "markdown",
      "source": [
        "19. Создать матрицу 3х3 заполненную единицами и заменить 1й столбец на 4"
      ],
      "metadata": {
        "id": "nqPRwrFcADgv"
      }
    },
    {
      "cell_type": "code",
      "source": [
        "A = torch.ones(3,3)\n",
        "A[: , 0] = 4\n",
        "A"
      ],
      "metadata": {
        "trusted": true,
        "id": "qLspfnMSADg6",
        "outputId": "d7896cd2-b358-45b7-f8f4-b78100708597",
        "colab": {
          "base_uri": "https://localhost:8080/"
        }
      },
      "outputs": [
        {
          "output_type": "execute_result",
          "data": {
            "text/plain": [
              "tensor([[4., 1., 1.],\n",
              "        [4., 1., 1.],\n",
              "        [4., 1., 1.]])"
            ]
          },
          "metadata": {},
          "execution_count": 115
        }
      ],
      "execution_count": 115
    },
    {
      "cell_type": "markdown",
      "source": [
        "20. Создать матрицу и вывести сумму по каждой строке"
      ],
      "metadata": {
        "id": "tOokADI7ADg7"
      }
    },
    {
      "cell_type": "code",
      "source": [
        "A = torch.ones(3,3)\n",
        "torch.sum(A)\n",
        "torch.sum(A)\n",
        "torch.sum(A)"
      ],
      "metadata": {
        "trusted": true,
        "id": "rnHm3JkxADg8",
        "outputId": "39301caf-6cbf-4f78-f810-bf132b9a95f2",
        "colab": {
          "base_uri": "https://localhost:8080/"
        }
      },
      "outputs": [
        {
          "output_type": "execute_result",
          "data": {
            "text/plain": [
              "tensor(9.)"
            ]
          },
          "metadata": {},
          "execution_count": 76
        }
      ],
      "execution_count": 76
    },
    {
      "cell_type": "markdown",
      "source": [
        "20. Создать матрицу и вывести среднее по каждому столбцу"
      ],
      "metadata": {
        "id": "3HnYV6M9ADg9"
      }
    },
    {
      "cell_type": "code",
      "source": [
        "A = torch.arange(9).reshape(3,3)\n",
        "print(A)\n",
        "torch.mean(A.float(),dim = 0)"
      ],
      "metadata": {
        "trusted": true,
        "id": "man1jSjSADg-",
        "outputId": "3b2e0524-405c-4ab7-82be-75a25c869b69",
        "colab": {
          "base_uri": "https://localhost:8080/"
        }
      },
      "outputs": [
        {
          "output_type": "stream",
          "name": "stdout",
          "text": [
            "tensor([[0, 1, 2],\n",
            "        [3, 4, 5],\n",
            "        [6, 7, 8]])\n"
          ]
        },
        {
          "output_type": "execute_result",
          "data": {
            "text/plain": [
              "tensor([3., 4., 5.])"
            ]
          },
          "metadata": {},
          "execution_count": 117
        }
      ],
      "execution_count": 117
    },
    {
      "cell_type": "code",
      "source": [
        "from google.colab import drive\n",
        "drive.mount('/content/drive')"
      ],
      "metadata": {
        "id": "BiN8T_WQETeZ"
      },
      "execution_count": null,
      "outputs": []
    },
    {
      "cell_type": "markdown",
      "source": [
        "21. Создать 2 вектора и сконкатенировать по 1 оси"
      ],
      "metadata": {
        "id": "SLORFk1ZADg-"
      }
    },
    {
      "cell_type": "code",
      "source": [
        "A = torch.arange(4)\n",
        "B = torch.arange(4)\n",
        "torch.concat([A,B])"
      ],
      "metadata": {
        "trusted": true,
        "id": "l5LffkEYADg_",
        "outputId": "96eea381-db3d-4264-d0e8-d3dc65484142",
        "colab": {
          "base_uri": "https://localhost:8080/"
        }
      },
      "outputs": [
        {
          "output_type": "execute_result",
          "data": {
            "text/plain": [
              "tensor([0, 1, 2, 3, 0, 1, 2, 3])"
            ]
          },
          "metadata": {},
          "execution_count": 78
        }
      ],
      "execution_count": 78
    },
    {
      "cell_type": "markdown",
      "source": [
        "22. Перемножим две большие единичные матрицы.\n",
        "Сначал на центральном процессоре, затем попробуйте на GPU"
      ],
      "metadata": {
        "id": "MbqIQL0nADhA"
      }
    },
    {
      "cell_type": "code",
      "source": [
        "import time\n",
        "\n",
        "size = 5000\n",
        "\n",
        "\n",
        "A = torch.ones(size, size, dtype=torch.float32)\n",
        "B = torch.ones(size, size, dtype=torch.float32)\n",
        "\n",
        "\n",
        "start = time.time()\n",
        "C_cpu = torch.matmul(A, B)\n",
        "end = time.time()\n",
        "print(f\"Время умножения на CPU: {end - start:.4f} сек\")\n",
        "\n",
        "\n",
        "device = \"cuda\" if torch.cuda.is_available() else \"cpu\"\n",
        "print(f\"Используем устройство: {device}\")\n",
        "\n",
        "A_gpu = A.to(device)\n",
        "B_gpu = B.to(device)\n",
        "\n",
        "start = time.time()\n",
        "C_gpu = torch.matmul(A_gpu, B_gpu)\n",
        "torch.cuda.synchronize()\n",
        "end = time.time()\n",
        "print(f\"Время умножения на GPU: {end - start:.4f} сек\")"
      ],
      "metadata": {
        "trusted": true,
        "id": "Nzw7-wpFADhA",
        "outputId": "956b14e8-379e-4f3a-cd8e-e820153e6d40",
        "colab": {
          "base_uri": "https://localhost:8080/",
          "height": 775
        }
      },
      "outputs": [
        {
          "output_type": "stream",
          "name": "stdout",
          "text": [
            "Время умножения на CPU: 3.9373 сек\n",
            "Используем устройство: cpu\n"
          ]
        },
        {
          "output_type": "error",
          "ename": "RuntimeError",
          "evalue": "Found no NVIDIA driver on your system. Please check that you have an NVIDIA GPU and installed a driver from http://www.nvidia.com/Download/index.aspx",
          "traceback": [
            "\u001b[0;31m---------------------------------------------------------------------------\u001b[0m",
            "\u001b[0;31mRuntimeError\u001b[0m                              Traceback (most recent call last)",
            "\u001b[0;32m<ipython-input-79-a01cc907fe89>\u001b[0m in \u001b[0;36m<cell line: 0>\u001b[0;34m()\u001b[0m\n\u001b[1;32m     22\u001b[0m \u001b[0mstart\u001b[0m \u001b[0;34m=\u001b[0m \u001b[0mtime\u001b[0m\u001b[0;34m.\u001b[0m\u001b[0mtime\u001b[0m\u001b[0;34m(\u001b[0m\u001b[0;34m)\u001b[0m\u001b[0;34m\u001b[0m\u001b[0;34m\u001b[0m\u001b[0m\n\u001b[1;32m     23\u001b[0m \u001b[0mC_gpu\u001b[0m \u001b[0;34m=\u001b[0m \u001b[0mtorch\u001b[0m\u001b[0;34m.\u001b[0m\u001b[0mmatmul\u001b[0m\u001b[0;34m(\u001b[0m\u001b[0mA_gpu\u001b[0m\u001b[0;34m,\u001b[0m \u001b[0mB_gpu\u001b[0m\u001b[0;34m)\u001b[0m\u001b[0;34m\u001b[0m\u001b[0;34m\u001b[0m\u001b[0m\n\u001b[0;32m---> 24\u001b[0;31m \u001b[0mtorch\u001b[0m\u001b[0;34m.\u001b[0m\u001b[0mcuda\u001b[0m\u001b[0;34m.\u001b[0m\u001b[0msynchronize\u001b[0m\u001b[0;34m(\u001b[0m\u001b[0;34m)\u001b[0m\u001b[0;34m\u001b[0m\u001b[0;34m\u001b[0m\u001b[0m\n\u001b[0m\u001b[1;32m     25\u001b[0m \u001b[0mend\u001b[0m \u001b[0;34m=\u001b[0m \u001b[0mtime\u001b[0m\u001b[0;34m.\u001b[0m\u001b[0mtime\u001b[0m\u001b[0;34m(\u001b[0m\u001b[0;34m)\u001b[0m\u001b[0;34m\u001b[0m\u001b[0;34m\u001b[0m\u001b[0m\n\u001b[1;32m     26\u001b[0m \u001b[0mprint\u001b[0m\u001b[0;34m(\u001b[0m\u001b[0;34mf\"Время умножения на GPU: {end - start:.4f} сек\"\u001b[0m\u001b[0;34m)\u001b[0m\u001b[0;34m\u001b[0m\u001b[0;34m\u001b[0m\u001b[0m\n",
            "\u001b[0;32m/usr/local/lib/python3.11/dist-packages/torch/cuda/__init__.py\u001b[0m in \u001b[0;36msynchronize\u001b[0;34m(device)\u001b[0m\n\u001b[1;32m    950\u001b[0m             \u001b[0;32mif\u001b[0m \u001b[0;34m:\u001b[0m\u001b[0mattr\u001b[0m\u001b[0;34m:\u001b[0m\u001b[0;31m`\u001b[0m\u001b[0mdevice\u001b[0m\u001b[0;31m`\u001b[0m \u001b[0;32mis\u001b[0m\u001b[0;31m \u001b[0m\u001b[0;31m`\u001b[0m\u001b[0;31m`\u001b[0m\u001b[0;32mNone\u001b[0m\u001b[0;31m`\u001b[0m\u001b[0;31m`\u001b[0m \u001b[0;34m(\u001b[0m\u001b[0mdefault\u001b[0m\u001b[0;34m)\u001b[0m\u001b[0;34m.\u001b[0m\u001b[0;34m\u001b[0m\u001b[0;34m\u001b[0m\u001b[0m\n\u001b[1;32m    951\u001b[0m     \"\"\"\n\u001b[0;32m--> 952\u001b[0;31m     \u001b[0m_lazy_init\u001b[0m\u001b[0;34m(\u001b[0m\u001b[0;34m)\u001b[0m\u001b[0;34m\u001b[0m\u001b[0;34m\u001b[0m\u001b[0m\n\u001b[0m\u001b[1;32m    953\u001b[0m     \u001b[0;32mwith\u001b[0m \u001b[0mtorch\u001b[0m\u001b[0;34m.\u001b[0m\u001b[0mcuda\u001b[0m\u001b[0;34m.\u001b[0m\u001b[0mdevice\u001b[0m\u001b[0;34m(\u001b[0m\u001b[0mdevice\u001b[0m\u001b[0;34m)\u001b[0m\u001b[0;34m:\u001b[0m\u001b[0;34m\u001b[0m\u001b[0;34m\u001b[0m\u001b[0m\n\u001b[1;32m    954\u001b[0m         \u001b[0;32mreturn\u001b[0m \u001b[0mtorch\u001b[0m\u001b[0;34m.\u001b[0m\u001b[0m_C\u001b[0m\u001b[0;34m.\u001b[0m\u001b[0m_cuda_synchronize\u001b[0m\u001b[0;34m(\u001b[0m\u001b[0;34m)\u001b[0m\u001b[0;34m\u001b[0m\u001b[0;34m\u001b[0m\u001b[0m\n",
            "\u001b[0;32m/usr/local/lib/python3.11/dist-packages/torch/cuda/__init__.py\u001b[0m in \u001b[0;36m_lazy_init\u001b[0;34m()\u001b[0m\n\u001b[1;32m    317\u001b[0m         \u001b[0;32mif\u001b[0m \u001b[0;34m\"CUDA_MODULE_LOADING\"\u001b[0m \u001b[0;32mnot\u001b[0m \u001b[0;32min\u001b[0m \u001b[0mos\u001b[0m\u001b[0;34m.\u001b[0m\u001b[0menviron\u001b[0m\u001b[0;34m:\u001b[0m\u001b[0;34m\u001b[0m\u001b[0;34m\u001b[0m\u001b[0m\n\u001b[1;32m    318\u001b[0m             \u001b[0mos\u001b[0m\u001b[0;34m.\u001b[0m\u001b[0menviron\u001b[0m\u001b[0;34m[\u001b[0m\u001b[0;34m\"CUDA_MODULE_LOADING\"\u001b[0m\u001b[0;34m]\u001b[0m \u001b[0;34m=\u001b[0m \u001b[0;34m\"LAZY\"\u001b[0m\u001b[0;34m\u001b[0m\u001b[0;34m\u001b[0m\u001b[0m\n\u001b[0;32m--> 319\u001b[0;31m         \u001b[0mtorch\u001b[0m\u001b[0;34m.\u001b[0m\u001b[0m_C\u001b[0m\u001b[0;34m.\u001b[0m\u001b[0m_cuda_init\u001b[0m\u001b[0;34m(\u001b[0m\u001b[0;34m)\u001b[0m\u001b[0;34m\u001b[0m\u001b[0;34m\u001b[0m\u001b[0m\n\u001b[0m\u001b[1;32m    320\u001b[0m         \u001b[0;31m# Some of the queued calls may reentrantly call _lazy_init();\u001b[0m\u001b[0;34m\u001b[0m\u001b[0;34m\u001b[0m\u001b[0m\n\u001b[1;32m    321\u001b[0m         \u001b[0;31m# we need to just return without initializing in that case.\u001b[0m\u001b[0;34m\u001b[0m\u001b[0;34m\u001b[0m\u001b[0m\n",
            "\u001b[0;31mRuntimeError\u001b[0m: Found no NVIDIA driver on your system. Please check that you have an NVIDIA GPU and installed a driver from http://www.nvidia.com/Download/index.aspx"
          ]
        }
      ],
      "execution_count": 79
    }
  ]
}