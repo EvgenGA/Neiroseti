{
  "metadata": {
    "kernelspec": {
      "name": "python",
      "display_name": "Python (Pyodide)",
      "language": "python"
    },
    "language_info": {
      "codemirror_mode": {
        "name": "python",
        "version": 3
      },
      "file_extension": ".py",
      "mimetype": "text/x-python",
      "name": "python",
      "nbconvert_exporter": "python",
      "pygments_lexer": "ipython3",
      "version": "3.8"
    }
  },
  "nbformat_minor": 4,
  "nbformat": 4,
  "cells": [
    {
      "cell_type": "markdown",
      "source": "# Home Work 01 \n1. Numpy \n1. Pytorch (tensor (basic operations))",
      "metadata": {}
    },
    {
      "cell_type": "markdown",
      "source": "# DEADLINE\n\n### IS-142 - 08.10.24 \n### IS-141 - 15.10.24",
      "metadata": {}
    },
    {
      "cell_type": "markdown",
      "source": "## BLOKE №1 (numpy) ",
      "metadata": {
        "jp-MarkdownHeadingCollapsed": true
      }
    },
    {
      "cell_type": "markdown",
      "source": "1. Импортировать NumPy под именем np",
      "metadata": {}
    },
    {
      "cell_type": "code",
      "source": "import numpy as np",
      "metadata": {
        "trusted": true
      },
      "outputs": [],
      "execution_count": 1
    },
    {
      "cell_type": "markdown",
      "source": "2. Создать вектор (одномерный массив) размера 20, заполненный нулями",
      "metadata": {}
    },
    {
      "cell_type": "code",
      "source": "vec = np.zeros(20)\nprint(vec)",
      "metadata": {
        "trusted": true
      },
      "outputs": [
        {
          "name": "stdout",
          "output_type": "stream",
          "text": "[0. 0. 0. 0. 0. 0. 0. 0. 0. 0. 0. 0. 0. 0. 0. 0. 0. 0. 0. 0.]\n"
        }
      ],
      "execution_count": 2
    },
    {
      "cell_type": "markdown",
      "source": "3. Создать вектор размера 20, заполненный числом 1.75",
      "metadata": {}
    },
    {
      "cell_type": "code",
      "source": "vec1 = np.full(20,1.75)\nprint(vec1)",
      "metadata": {
        "trusted": true
      },
      "outputs": [
        {
          "name": "stdout",
          "output_type": "stream",
          "text": "[1.75 1.75 1.75 1.75 1.75 1.75 1.75 1.75 1.75 1.75 1.75 1.75 1.75 1.75\n 1.75 1.75 1.75 1.75 1.75 1.75]\n"
        }
      ],
      "execution_count": 3
    },
    {
      "cell_type": "markdown",
      "source": "4. Создать вектор со значениями от 4 до 31",
      "metadata": {}
    },
    {
      "cell_type": "code",
      "source": "vec3 = np.arange(4,32,1)\nprint(vec3)",
      "metadata": {
        "trusted": true
      },
      "outputs": [
        {
          "name": "stdout",
          "output_type": "stream",
          "text": "[ 4  5  6  7  8  9 10 11 12 13 14 15 16 17 18 19 20 21 22 23 24 25 26 27\n 28 29 30 31]\n"
        }
      ],
      "execution_count": 4
    },
    {
      "cell_type": "markdown",
      "source": "5. Развернуть вектор (первый становится последним)",
      "metadata": {}
    },
    {
      "cell_type": "code",
      "source": "vec4 = np.flip(vec3)\nprint(vec4)",
      "metadata": {
        "trusted": true
      },
      "outputs": [
        {
          "name": "stdout",
          "output_type": "stream",
          "text": "[31 30 29 28 27 26 25 24 23 22 21 20 19 18 17 16 15 14 13 12 11 10  9  8\n  7  6  5  4]\n"
        }
      ],
      "execution_count": 5
    },
    {
      "cell_type": "markdown",
      "source": "6. Создать матрицу (двумерный массив) 3x3 со значениями от 1 до 9",
      "metadata": {}
    },
    {
      "cell_type": "code",
      "source": "matrix = np.arange(1,10,1).reshape(3,3)\nprint(matrix)",
      "metadata": {
        "trusted": true
      },
      "outputs": [
        {
          "name": "stdout",
          "output_type": "stream",
          "text": "[[1 2 3]\n [4 5 6]\n [7 8 9]]\n"
        }
      ],
      "execution_count": 6
    },
    {
      "cell_type": "markdown",
      "source": "7. Создать 3x3 единичную матрицу",
      "metadata": {}
    },
    {
      "cell_type": "code",
      "source": "matrix1 = np.eye(3)\nprint(matrix1)",
      "metadata": {
        "trusted": true
      },
      "outputs": [
        {
          "name": "stdout",
          "output_type": "stream",
          "text": "[[1. 0. 0.]\n [0. 1. 0.]\n [0. 0. 1.]]\n"
        }
      ],
      "execution_count": 7
    },
    {
      "cell_type": "markdown",
      "source": "8. Создать 4x4 пустую матрицу",
      "metadata": {}
    },
    {
      "cell_type": "code",
      "source": "matrix2 = np.empty((4,4))\nprint(matrix2)",
      "metadata": {
        "trusted": true
      },
      "outputs": [
        {
          "name": "stdout",
          "output_type": "stream",
          "text": "[[ 0.00000000e+000  9.42947026e-308  9.93121735e-306  0.00000000e+000]\n [ 4.94065646e-324  1.38259192e-316  8.00011905e-312  3.43763318e-312]\n [ 2.18141167e-311  4.24399158e-314              nan  8.81442151e-280]\n [-7.45064156e-262  2.41513694e-295  2.22809558e-312  1.04256851e-141]]\n"
        }
      ],
      "execution_count": 8
    },
    {
      "cell_type": "markdown",
      "source": "9. Создать единичную матрицу 4x4 со сдвигом на единицу вниз относительно главной диагонали",
      "metadata": {}
    },
    {
      "cell_type": "code",
      "source": "matrixeye = np.eye(4,4,-1)\nprint(matrixeye)",
      "metadata": {
        "trusted": true
      },
      "outputs": [
        {
          "name": "stdout",
          "output_type": "stream",
          "text": "[[0. 0. 0. 0.]\n [1. 0. 0. 0.]\n [0. 1. 0. 0.]\n [0. 0. 1. 0.]]\n"
        }
      ],
      "execution_count": 9
    },
    {
      "cell_type": "markdown",
      "source": "10. Создать тензор 3x3x3 со случайными значениями",
      "metadata": {}
    },
    {
      "cell_type": "code",
      "source": "tens = np.random.random((3,3,3))\nprint(tens)",
      "metadata": {
        "trusted": true
      },
      "outputs": [
        {
          "name": "stdout",
          "output_type": "stream",
          "text": "[[[0.46108722 0.54108114 0.68838895]\n  [0.87803037 0.22978365 0.93394599]\n  [0.37315719 0.65895598 0.04337764]]\n\n [[0.96804911 0.2841296  0.96764976]\n  [0.31477757 0.03500489 0.89407476]\n  [0.30158478 0.71584269 0.90975691]]\n\n [[0.43430928 0.71060128 0.09665514]\n  [0.13348943 0.58999805 0.96409034]\n  [0.64530009 0.72872876 0.72761538]]]\n"
        }
      ],
      "execution_count": 10
    },
    {
      "cell_type": "markdown",
      "source": "11. Создать массив 5x5 со случайными значениями, найти минимум и максимум",
      "metadata": {}
    },
    {
      "cell_type": "code",
      "source": "array = np.random.random((5,5))\narmin = np.min(array)\narmax = np.max(array)\nprint(array)\nprint(armin)\nprint(armax)",
      "metadata": {
        "trusted": true
      },
      "outputs": [
        {
          "name": "stdout",
          "output_type": "stream",
          "text": "[[0.09795927 0.0558392  0.71732542 0.94998672 0.05755041]\n [0.22344657 0.16586288 0.98076077 0.17445402 0.39125618]\n [0.52339832 0.70959424 0.88133789 0.65269371 0.33104367]\n [0.51856197 0.2469374  0.15786567 0.910475   0.99742444]\n [0.57423323 0.17843518 0.27014827 0.66927427 0.02392018]]\n0.023920182522582656\n0.9974244378701648\n"
        }
      ],
      "execution_count": 11
    },
    {
      "cell_type": "markdown",
      "source": "12. Создать случайный вектор размера 50 и найти среднее значение всех элементов",
      "metadata": {}
    },
    {
      "cell_type": "code",
      "source": "vec5 = np.random.random(50)\nprint(vec5)\nmidle = np.mean(vec5)\nprint(midle)",
      "metadata": {
        "trusted": true
      },
      "outputs": [
        {
          "name": "stdout",
          "output_type": "stream",
          "text": "[0.99533898 0.62904976 0.52685502 0.08741345 0.74311827 0.72617605\n 0.02814232 0.44392791 0.9234734  0.09465639 0.36528885 0.17342785\n 0.43208443 0.34825599 0.7164416  0.33971616 0.11843334 0.68767566\n 0.03918062 0.61307278 0.4061093  0.34322846 0.78253091 0.5215633\n 0.42080783 0.96827959 0.73688101 0.37919087 0.8375889  0.15235416\n 0.05969888 0.04604689 0.27324297 0.62487521 0.38996613 0.37355868\n 0.14024721 0.34324931 0.24507555 0.92922888 0.99397306 0.49959072\n 0.88527845 0.34866935 0.02421508 0.29577347 0.87402139 0.37292993\n 0.31775589 0.4063672 ]\n0.4604805480839833\n"
        }
      ],
      "execution_count": 12
    },
    {
      "cell_type": "markdown",
      "source": "13. Создать матрицу с 0 внутри, и 1 на границах",
      "metadata": {}
    },
    {
      "cell_type": "code",
      "source": "matrixWindow = np.zeros((5,5))\nmatrixWindow[0,:] = 1\nmatrixWindow[-1,:] = 1\nmatrixWindow[:,0] = 1\nmatrixWindow[:,-1] = 1\nprint(matrixWindow)",
      "metadata": {
        "trusted": true
      },
      "outputs": [
        {
          "name": "stdout",
          "output_type": "stream",
          "text": "[[1. 1. 1. 1. 1.]\n [1. 0. 0. 0. 1.]\n [1. 0. 0. 0. 1.]\n [1. 0. 0. 0. 1.]\n [1. 1. 1. 1. 1.]]\n"
        }
      ],
      "execution_count": 13
    },
    {
      "cell_type": "markdown",
      "source": "14. Создать 5x5 матрицу с 1,2,3,4 под диагональю",
      "metadata": {}
    },
    {
      "cell_type": "code",
      "source": "matrixsdvig = 1+np.arange(4)\nmatrixsdvig = np.diag(matrixsdvig,k=-1)\nprint(matrixsdvig)",
      "metadata": {
        "trusted": true
      },
      "outputs": [
        {
          "name": "stdout",
          "output_type": "stream",
          "text": "[[0 0 0 0 0]\n [1 0 0 0 0]\n [0 2 0 0 0]\n [0 0 3 0 0]\n [0 0 0 4 0]]\n"
        }
      ],
      "execution_count": 14
    },
    {
      "cell_type": "markdown",
      "source": "15. Перемножить матрицы 5x3 и 3x2",
      "metadata": {}
    },
    {
      "cell_type": "code",
      "source": "matrixA = np.arange(15).reshape(5,3)\nmatrixB = np.arange(6).reshape(3,2)\nmatrixC = matrixA.dot(matrixB)",
      "metadata": {
        "trusted": true
      },
      "outputs": [],
      "execution_count": 15
    },
    {
      "cell_type": "markdown",
      "source": "16. Создать вектор состоящий из 15 элементов, поменять знак у элементов, значения которых между 6 и 12 ",
      "metadata": {}
    },
    {
      "cell_type": "code",
      "source": "vec6 = np.arange(15)\nvec6 = np.where((vec6 > 6) & (vec6 < 12), -vec6, vec6)\nprint(vec6)",
      "metadata": {
        "trusted": true
      },
      "outputs": [
        {
          "name": "stdout",
          "output_type": "stream",
          "text": "[  0   1   2   3   4   5   6  -7  -8  -9 -10 -11  12  13  14]\n"
        }
      ],
      "execution_count": 16
    },
    {
      "cell_type": "markdown",
      "source": "17. Создать 2 матрицы A(3x3) и B(3x3), получить матрицу С путем поэлеметного умножения.",
      "metadata": {}
    },
    {
      "cell_type": "code",
      "source": "matrixA = np.arange(9).reshape(3,3)\nmatrixB = np.arange(10,19).reshape(3,3)\nmatrixC = matrixA*matrixB\nprint(matrixC)",
      "metadata": {
        "trusted": true
      },
      "outputs": [
        {
          "name": "stdout",
          "output_type": "stream",
          "text": "[[  0  11  24]\n [ 39  56  75]\n [ 96 119 144]]\n"
        }
      ],
      "execution_count": 17
    },
    {
      "cell_type": "markdown",
      "source": "18. Найти максимальные и минимальные значения матрицы С по строкам и столбцам",
      "metadata": {}
    },
    {
      "cell_type": "code",
      "source": "matrixA = np.arange(9).reshape(3,3)\nprint(matrixA)\nprint(np.max(matrixA, axis = 0))#столбец\nprint(np.max(matrixA, axis = 1))#строка\nprint(np.min(matrixA, axis = 0))\nprint(np.min(matrixA, axis = 1))",
      "metadata": {
        "trusted": true
      },
      "outputs": [
        {
          "name": "stdout",
          "output_type": "stream",
          "text": "[[0 1 2]\n [3 4 5]\n [6 7 8]]\n[6 7 8]\n[2 5 8]\n[0 1 2]\n[0 3 6]\n"
        }
      ],
      "execution_count": 18
    },
    {
      "cell_type": "markdown",
      "source": "19. Создать вектор со значениями от 0 до 1 c 10 наблюдениями",
      "metadata": {}
    },
    {
      "cell_type": "code",
      "source": "vecNab = np.linspace(0,1,10)\nprint(vecNab)",
      "metadata": {
        "trusted": true
      },
      "outputs": [
        {
          "name": "stdout",
          "output_type": "stream",
          "text": "[0.         0.11111111 0.22222222 0.33333333 0.44444444 0.55555556\n 0.66666667 0.77777778 0.88888889 1.        ]\n"
        }
      ],
      "execution_count": 19
    },
    {
      "cell_type": "markdown",
      "source": "20. Отсортировать вектор",
      "metadata": {}
    },
    {
      "cell_type": "code",
      "source": "vec = np.random.random((4,4))\nprint(vec)\nprint()\nvecSort = np.sort(vec)\nprint(vecSort)",
      "metadata": {
        "trusted": true
      },
      "outputs": [
        {
          "name": "stdout",
          "output_type": "stream",
          "text": "[[0.76300243 0.4485829  0.53415811 0.01379548]\n [0.22418518 0.03931498 0.34115669 0.32579397]\n [0.87667315 0.14384448 0.13512302 0.75787648]\n [0.84940157 0.05901398 0.82728031 0.21100082]]\n\n[[0.01379548 0.4485829  0.53415811 0.76300243]\n [0.03931498 0.22418518 0.32579397 0.34115669]\n [0.13512302 0.14384448 0.75787648 0.87667315]\n [0.05901398 0.21100082 0.82728031 0.84940157]]\n"
        }
      ],
      "execution_count": 20
    },
    {
      "cell_type": "markdown",
      "source": "21. Проверить, одинаковы ли 2 numpy массива",
      "metadata": {}
    },
    {
      "cell_type": "code",
      "source": "a = np.array([1, 2, 3])\nb = np.array([1, 2, 3])\nprint(np.array_equal(a, b))",
      "metadata": {
        "trusted": true
      },
      "outputs": [
        {
          "name": "stdout",
          "output_type": "stream",
          "text": "True\n"
        }
      ],
      "execution_count": 21
    },
    {
      "cell_type": "markdown",
      "source": "22. Сделать массив неизменяемым",
      "metadata": {}
    },
    {
      "cell_type": "code",
      "source": "arr = np.array([1, 2, 3])\narr.flags.writeable = False \narr[0] = 3",
      "metadata": {
        "trusted": true
      },
      "outputs": [
        {
          "ename": "<class 'ValueError'>",
          "evalue": "assignment destination is read-only",
          "traceback": [
            "\u001b[0;31m---------------------------------------------------------------------------\u001b[0m",
            "\u001b[0;31mValueError\u001b[0m                                Traceback (most recent call last)",
            "Cell \u001b[0;32mIn[22], line 3\u001b[0m\n\u001b[1;32m      1\u001b[0m arr \u001b[38;5;241m=\u001b[39m np\u001b[38;5;241m.\u001b[39marray([\u001b[38;5;241m1\u001b[39m, \u001b[38;5;241m2\u001b[39m, \u001b[38;5;241m3\u001b[39m])\n\u001b[1;32m      2\u001b[0m arr\u001b[38;5;241m.\u001b[39mflags\u001b[38;5;241m.\u001b[39mwriteable \u001b[38;5;241m=\u001b[39m \u001b[38;5;28;01mFalse\u001b[39;00m \n\u001b[0;32m----> 3\u001b[0m \u001b[43marr\u001b[49m\u001b[43m[\u001b[49m\u001b[38;5;241;43m0\u001b[39;49m\u001b[43m]\u001b[49m \u001b[38;5;241m=\u001b[39m \u001b[38;5;241m3\u001b[39m\n",
            "\u001b[0;31mValueError\u001b[0m: assignment destination is read-only"
          ],
          "output_type": "error"
        }
      ],
      "execution_count": 22
    },
    {
      "cell_type": "markdown",
      "source": "23. Создать случайный вектор из 20 элементов, найти квантиль от 10% и от 80%",
      "metadata": {}
    },
    {
      "cell_type": "code",
      "source": "vec8 = np.arange(20)\nprint(np.quantile(vec8, 0.1))\nprint(np.quantile(vec8, 0.8))",
      "metadata": {
        "trusted": true
      },
      "outputs": [
        {
          "name": "stdout",
          "output_type": "stream",
          "text": "1.9000000000000001\n15.200000000000001\n"
        }
      ],
      "execution_count": 23
    },
    {
      "cell_type": "markdown",
      "source": "24. Создать массив любой размерности состоящий из int и string",
      "metadata": {}
    },
    {
      "cell_type": "code",
      "source": "listing = np.array([1,2,3,\"asd\"],dtype=object)\nprint(listing)",
      "metadata": {
        "trusted": true
      },
      "outputs": [
        {
          "name": "stdout",
          "output_type": "stream",
          "text": "[1 2 3 'asd']\n"
        }
      ],
      "execution_count": 24
    },
    {
      "cell_type": "markdown",
      "source": "25. Найти минимальное и максимальное значение, принимаемое каждым числовым типом numpy",
      "metadata": {}
    },
    {
      "cell_type": "code",
      "source": "print(np.finfo(np.float64).min) \nprint(np.iinfo(np.int64).min)",
      "metadata": {
        "trusted": true
      },
      "outputs": [
        {
          "name": "stdout",
          "output_type": "stream",
          "text": "-1.7976931348623157e+308\n-9223372036854775808\n"
        }
      ],
      "execution_count": 25
    },
    {
      "cell_type": "markdown",
      "source": "26. Преобразовать массив из float в int",
      "metadata": {}
    },
    {
      "cell_type": "code",
      "source": "vec9 = np.array([1.2, 3.5])\nprint(vec9.dtype)\nvec9 = vec9.astype(np.int64)\nprint(vec9.dtype)\nprint(vec9)",
      "metadata": {
        "trusted": true
      },
      "outputs": [
        {
          "name": "stdout",
          "output_type": "stream",
          "text": "float64\nint64\n[1 3]\n"
        }
      ],
      "execution_count": 26
    },
    {
      "cell_type": "markdown",
      "source": "27. Отнять среднее из каждой строки в матрице",
      "metadata": {}
    },
    {
      "cell_type": "code",
      "source": "mat = np.arange(25).reshape(5,5)\nprint(mat)\nmat = mat - np.average(mat)\nprint(mat)",
      "metadata": {
        "trusted": true
      },
      "outputs": [
        {
          "name": "stdout",
          "output_type": "stream",
          "text": "[[ 0  1  2  3  4]\n [ 5  6  7  8  9]\n [10 11 12 13 14]\n [15 16 17 18 19]\n [20 21 22 23 24]]\n[[-12. -11. -10.  -9.  -8.]\n [ -7.  -6.  -5.  -4.  -3.]\n [ -2.  -1.   0.   1.   2.]\n [  3.   4.   5.   6.   7.]\n [  8.   9.  10.  11.  12.]]\n"
        }
      ],
      "execution_count": 27
    },
    {
      "cell_type": "markdown",
      "source": "28. \n\nДана данные из файла.\n\n1,2,3,4,5\n\n6,,,7,8\n\n,,9,10,11\n\nНеобходимо прочитать его\n",
      "metadata": {}
    },
    {
      "cell_type": "code",
      "source": "import numpy as np\nimport io\n\n# Исходная строка\nstr_data = \"1,2,3,4,5\\\n            6,,,7,8\\\n            ,,9,10,11\"\n\ndata = np.genfromtxt(io.StringIO(str_data), delimiter=\",\", dtype=float)\n\nprint(data)",
      "metadata": {
        "trusted": true
      },
      "outputs": [
        {
          "name": "stdout",
          "output_type": "stream",
          "text": "[ 1.  2.  3.  4. nan nan nan  7.  8. nan  9. 10. 11.]\n"
        }
      ],
      "execution_count": 28
    },
    {
      "cell_type": "markdown",
      "source": "29. Посчитайте сумму квадратов натуральных чисел от 1 до 10000.",
      "metadata": {}
    },
    {
      "cell_type": "code",
      "source": "vector = 1+np.arange(10000)\nvector = np.power(vector,2)\nvector = np.sum(vector)\nprint(vector)",
      "metadata": {
        "trusted": true
      },
      "outputs": [
        {
          "name": "stdout",
          "output_type": "stream",
          "text": "-1624114088\n"
        }
      ],
      "execution_count": 29
    },
    {
      "cell_type": "markdown",
      "source": "## BLOKE №2 (tensors) ",
      "metadata": {}
    },
    {
      "cell_type": "markdown",
      "source": "1. Импортируйте pytorch",
      "metadata": {}
    },
    {
      "cell_type": "code",
      "source": "import torch",
      "metadata": {
        "trusted": true
      },
      "outputs": [
        {
          "ename": "<class 'ModuleNotFoundError'>",
          "evalue": "No module named 'torch'",
          "traceback": [
            "\u001b[0;31m---------------------------------------------------------------------------\u001b[0m",
            "\u001b[0;31mModuleNotFoundError\u001b[0m                       Traceback (most recent call last)",
            "Cell \u001b[0;32mIn[56], line 1\u001b[0m\n\u001b[0;32m----> 1\u001b[0m \u001b[38;5;28;01mimport\u001b[39;00m \u001b[38;5;21;01mtorch\u001b[39;00m\n",
            "\u001b[0;31mModuleNotFoundError\u001b[0m: No module named 'torch'"
          ],
          "output_type": "error"
        }
      ],
      "execution_count": 56
    },
    {
      "cell_type": "markdown",
      "source": "2. Создать вектор состящий из 10 элементов",
      "metadata": {}
    },
    {
      "cell_type": "code",
      "source": "torch.empty(10)",
      "metadata": {
        "trusted": true
      },
      "outputs": [
        {
          "ename": "<class 'NameError'>",
          "evalue": "name 'torch' is not defined",
          "traceback": [
            "\u001b[0;31m---------------------------------------------------------------------------\u001b[0m",
            "\u001b[0;31mNameError\u001b[0m                                 Traceback (most recent call last)",
            "Cell \u001b[0;32mIn[31], line 1\u001b[0m\n\u001b[0;32m----> 1\u001b[0m \u001b[43mtorch\u001b[49m\u001b[38;5;241m.\u001b[39mempty(\u001b[38;5;241m10\u001b[39m)\n",
            "\u001b[0;31mNameError\u001b[0m: name 'torch' is not defined"
          ],
          "output_type": "error"
        }
      ],
      "execution_count": 31
    },
    {
      "cell_type": "markdown",
      "source": "3. Создать тензор из python list",
      "metadata": {}
    },
    {
      "cell_type": "code",
      "source": "torch.tensor([1, 2, 3, 4, 5])",
      "metadata": {
        "trusted": true
      },
      "outputs": [
        {
          "ename": "<class 'NameError'>",
          "evalue": "name 'torch' is not defined",
          "traceback": [
            "\u001b[0;31m---------------------------------------------------------------------------\u001b[0m",
            "\u001b[0;31mNameError\u001b[0m                                 Traceback (most recent call last)",
            "Cell \u001b[0;32mIn[32], line 1\u001b[0m\n\u001b[0;32m----> 1\u001b[0m \u001b[43mtorch\u001b[49m\u001b[38;5;241m.\u001b[39mtensor([\u001b[38;5;241m1\u001b[39m, \u001b[38;5;241m2\u001b[39m, \u001b[38;5;241m3\u001b[39m, \u001b[38;5;241m4\u001b[39m, \u001b[38;5;241m5\u001b[39m])\n",
            "\u001b[0;31mNameError\u001b[0m: name 'torch' is not defined"
          ],
          "output_type": "error"
        }
      ],
      "execution_count": 32
    },
    {
      "cell_type": "markdown",
      "source": "4. Создать тензор из np.array",
      "metadata": {}
    },
    {
      "cell_type": "code",
      "source": "torch.tensor(np.array([1, 2, 3, 4, 5]))",
      "metadata": {
        "trusted": true
      },
      "outputs": [
        {
          "ename": "<class 'NameError'>",
          "evalue": "name 'torch' is not defined",
          "traceback": [
            "\u001b[0;31m---------------------------------------------------------------------------\u001b[0m",
            "\u001b[0;31mNameError\u001b[0m                                 Traceback (most recent call last)",
            "Cell \u001b[0;32mIn[33], line 1\u001b[0m\n\u001b[0;32m----> 1\u001b[0m \u001b[43mtorch\u001b[49m\u001b[38;5;241m.\u001b[39mtensor(np\u001b[38;5;241m.\u001b[39marray([\u001b[38;5;241m1\u001b[39m, \u001b[38;5;241m2\u001b[39m, \u001b[38;5;241m3\u001b[39m, \u001b[38;5;241m4\u001b[39m, \u001b[38;5;241m5\u001b[39m]))\n",
            "\u001b[0;31mNameError\u001b[0m: name 'torch' is not defined"
          ],
          "output_type": "error"
        }
      ],
      "execution_count": 33
    },
    {
      "cell_type": "markdown",
      "source": "5. Создать тензор с нормальным распределением",
      "metadata": {}
    },
    {
      "cell_type": "code",
      "source": "torch.randn(3,3)",
      "metadata": {
        "trusted": true
      },
      "outputs": [
        {
          "ename": "<class 'NameError'>",
          "evalue": "name 'torch' is not defined",
          "traceback": [
            "\u001b[0;31m---------------------------------------------------------------------------\u001b[0m",
            "\u001b[0;31mNameError\u001b[0m                                 Traceback (most recent call last)",
            "Cell \u001b[0;32mIn[34], line 1\u001b[0m\n\u001b[0;32m----> 1\u001b[0m \u001b[43mtorch\u001b[49m\u001b[38;5;241m.\u001b[39mrandn(\u001b[38;5;241m3\u001b[39m,\u001b[38;5;241m3\u001b[39m)\n",
            "\u001b[0;31mNameError\u001b[0m: name 'torch' is not defined"
          ],
          "output_type": "error"
        }
      ],
      "execution_count": 34
    },
    {
      "cell_type": "markdown",
      "source": "6. Создать тензор размером 3х3х3",
      "metadata": {}
    },
    {
      "cell_type": "code",
      "source": "torch.randn(3,3,3)",
      "metadata": {
        "trusted": true
      },
      "outputs": [],
      "execution_count": 35
    },
    {
      "cell_type": "markdown",
      "source": "7. Создать единичную матрицу размером 4х5",
      "metadata": {}
    },
    {
      "cell_type": "code",
      "source": "torch.eye((4,5))",
      "metadata": {
        "trusted": true
      },
      "outputs": [
        {
          "ename": "<class 'NameError'>",
          "evalue": "name 'torch' is not defined",
          "traceback": [
            "\u001b[0;31m---------------------------------------------------------------------------\u001b[0m",
            "\u001b[0;31mNameError\u001b[0m                                 Traceback (most recent call last)",
            "Cell \u001b[0;32mIn[54], line 1\u001b[0m\n\u001b[0;32m----> 1\u001b[0m \u001b[43mtorch\u001b[49m\u001b[38;5;241m.\u001b[39meye((\u001b[38;5;241m4\u001b[39m,\u001b[38;5;241m5\u001b[39m))\n",
            "\u001b[0;31mNameError\u001b[0m: name 'torch' is not defined"
          ],
          "output_type": "error"
        }
      ],
      "execution_count": 54
    },
    {
      "cell_type": "markdown",
      "source": "8. Создать вектор размера 25, заполнить елементами со значениме pi",
      "metadata": {}
    },
    {
      "cell_type": "code",
      "source": "torch.full([25], np.pi)",
      "metadata": {
        "trusted": true
      },
      "outputs": [],
      "execution_count": 37
    },
    {
      "cell_type": "markdown",
      "source": "9. Умножить матрицу размера 9, заполненная от 0 до 8, поэлементно на любое число",
      "metadata": {}
    },
    {
      "cell_type": "code",
      "source": "A = torch.tensor(np.arange(9).reshape(3,3))\nA = torch.multiply(A,3)\nprint(A)",
      "metadata": {
        "trusted": true
      },
      "outputs": [],
      "execution_count": 38
    },
    {
      "cell_type": "markdown",
      "source": "10. Создать произвольный тензор с типом данных int8",
      "metadata": {}
    },
    {
      "cell_type": "code",
      "source": "torch.tensor([1,2, 3, 4], dtype = torch.int8)",
      "metadata": {
        "trusted": true
      },
      "outputs": [],
      "execution_count": 39
    },
    {
      "cell_type": "markdown",
      "source": "11. Изменить тип данных из пункта 10 на int64",
      "metadata": {}
    },
    {
      "cell_type": "code",
      "source": "torch.tensor([1,2, 3, 4], dtype = torch.int64)",
      "metadata": {
        "trusted": true
      },
      "outputs": [],
      "execution_count": 40
    },
    {
      "cell_type": "markdown",
      "source": "12. Создать случайный тензор размера 4x5 и найти среднее по 2му столбцу.",
      "metadata": {}
    },
    {
      "cell_type": "code",
      "source": "A = torch.arange(9).reshape(3,3)\nprint(A)\ntorch.mean(A.float(),dim = 0)[1]",
      "metadata": {
        "trusted": true
      },
      "outputs": [],
      "execution_count": 41
    },
    {
      "cell_type": "markdown",
      "source": "13. Создать пустой тензор произвольных размеров",
      "metadata": {}
    },
    {
      "cell_type": "code",
      "source": "torch.empty(32)",
      "metadata": {
        "trusted": true
      },
      "outputs": [],
      "execution_count": 42
    },
    {
      "cell_type": "markdown",
      "source": "14. Скалярно умножить 2 вектора",
      "metadata": {}
    },
    {
      "cell_type": "code",
      "source": "A = torch.randn(3)\nB = torch.randn(3)\nC = torch.dot(A,B)\nprint(C)",
      "metadata": {
        "trusted": true
      },
      "outputs": [],
      "execution_count": 43
    },
    {
      "cell_type": "markdown",
      "source": "15. Умножить матрицу на вектор",
      "metadata": {}
    },
    {
      "cell_type": "code",
      "source": "A = torch.arange(1,10).reshape(3,3)\nB = torch.tensor([1,2,3])\nC = torch.matmul(A,B)\nprint(C)\nprint(A)",
      "metadata": {
        "trusted": true
      },
      "outputs": [],
      "execution_count": 44
    },
    {
      "cell_type": "markdown",
      "source": "16. Перемножить 2D матрицы ",
      "metadata": {}
    },
    {
      "cell_type": "code",
      "source": "A = torch.arange(1,10).reshape(3,3)\nB = torch.arange(10, 19).reshape(3,3)\nC = torch.matmul(A, B)\nprint(C)\nprint(A)\nprint(B)",
      "metadata": {
        "trusted": true
      },
      "outputs": [],
      "execution_count": 45
    },
    {
      "cell_type": "markdown",
      "source": "17. Перемножить 3D тензоры",
      "metadata": {}
    },
    {
      "cell_type": "code",
      "source": "A = torch.arange(27).reshape(3,3,3)\nB = torch.arange(27).reshape(3,3,3)\nC = torch.matmul(A, B)\nprint(C)",
      "metadata": {
        "trusted": true
      },
      "outputs": [
        {
          "ename": "<class 'NameError'>",
          "evalue": "name 'torch' is not defined",
          "traceback": [
            "\u001b[0;31m---------------------------------------------------------------------------\u001b[0m",
            "\u001b[0;31mNameError\u001b[0m                                 Traceback (most recent call last)",
            "Cell \u001b[0;32mIn[57], line 1\u001b[0m\n\u001b[0;32m----> 1\u001b[0m A \u001b[38;5;241m=\u001b[39m \u001b[43mtorch\u001b[49m\u001b[38;5;241m.\u001b[39marange(\u001b[38;5;241m27\u001b[39m)\u001b[38;5;241m.\u001b[39mreshape(\u001b[38;5;241m3\u001b[39m,\u001b[38;5;241m3\u001b[39m,\u001b[38;5;241m3\u001b[39m)\n\u001b[1;32m      2\u001b[0m B \u001b[38;5;241m=\u001b[39m torch\u001b[38;5;241m.\u001b[39marange(\u001b[38;5;241m27\u001b[39m)\u001b[38;5;241m.\u001b[39mreshape(\u001b[38;5;241m3\u001b[39m,\u001b[38;5;241m3\u001b[39m,\u001b[38;5;241m3\u001b[39m)\n\u001b[1;32m      3\u001b[0m C \u001b[38;5;241m=\u001b[39m torch\u001b[38;5;241m.\u001b[39mmatmul(A, B)\n",
            "\u001b[0;31mNameError\u001b[0m: name 'torch' is not defined"
          ],
          "output_type": "error"
        }
      ],
      "execution_count": 57
    },
    {
      "cell_type": "markdown",
      "source": "18. Создать вектор с нормальным распределением и вывести элементы больше 0.5",
      "metadata": {}
    },
    {
      "cell_type": "code",
      "source": "A = torch.randn(10)\nA[A > 0.5]",
      "metadata": {
        "trusted": true
      },
      "outputs": [],
      "execution_count": 47
    },
    {
      "cell_type": "markdown",
      "source": "19. Создать матрицу 3х3 заполненную единицами и заменить 1й столбец на 4",
      "metadata": {}
    },
    {
      "cell_type": "code",
      "source": "A = torch.ones(3,3)\nA[: , 0] = 4\nprint(A)",
      "metadata": {
        "trusted": true
      },
      "outputs": [],
      "execution_count": 48
    },
    {
      "cell_type": "markdown",
      "source": "20. Создать матрицу и вывести сумму по каждой строке",
      "metadata": {}
    },
    {
      "cell_type": "code",
      "source": "A = torch.ones(3,3)\ntorch.sum(A)\ntorch.sum(A)\ntorch.sum(A)",
      "metadata": {
        "trusted": true
      },
      "outputs": [],
      "execution_count": 49
    },
    {
      "cell_type": "markdown",
      "source": "20. Создать матрицу и вывести среднее по каждому столбцу",
      "metadata": {}
    },
    {
      "cell_type": "code",
      "source": "A = torch.arange(9).reshape(3,3)\nprint(A)\nprint(torch.mean(A.float(),dim = 0))",
      "metadata": {
        "trusted": true
      },
      "outputs": [],
      "execution_count": 50
    },
    {
      "cell_type": "markdown",
      "source": "21. Создать 2 вектора и сконкатенировать по 1 оси",
      "metadata": {}
    },
    {
      "cell_type": "code",
      "source": "A = torch.arange(4)\nB = torch.arange(4)\ntorch.concat([A,B])",
      "metadata": {
        "trusted": true
      },
      "outputs": [],
      "execution_count": 51
    },
    {
      "cell_type": "markdown",
      "source": "22. Перемножим две большие единичные матрицы. \nСначал на центральном процессоре, затем попробуйте на GPU",
      "metadata": {}
    },
    {
      "cell_type": "code",
      "source": "import time\n\nsize = 5000 \n\n\nA = torch.ones(size, size, dtype=torch.float32)\nB = torch.ones(size, size, dtype=torch.float32)\n\n\nstart = time.time()\nC_cpu = torch.matmul(A, B)\nend = time.time()\nprint(f\"Время умножения на CPU: {end - start:.4f} сек\")\n\n\ndevice = \"cuda\" if torch.cuda.is_available() else \"cpu\"\nprint(f\"Используем устройство: {device}\")\n\nA_gpu = A.to(device)\nB_gpu = B.to(device)\n\nstart = time.time()\nC_gpu = torch.matmul(A_gpu, B_gpu) \ntorch.cuda.synchronize() \nend = time.time()\nprint(f\"Время умножения на GPU: {end - start:.4f} сек\")",
      "metadata": {
        "trusted": true
      },
      "outputs": [],
      "execution_count": 52
    }
  ]
}